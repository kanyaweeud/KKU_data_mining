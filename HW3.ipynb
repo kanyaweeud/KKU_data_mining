{
  "nbformat": 4,
  "nbformat_minor": 0,
  "metadata": {
    "colab": {
      "name": "Untitled0.ipynb",
      "provenance": [],
      "authorship_tag": "ABX9TyPALUwVSKOUqsLqLvrpxmCE",
      "include_colab_link": true
    },
    "kernelspec": {
      "name": "python3",
      "display_name": "Python 3"
    }
  },
  "cells": [
    {
      "cell_type": "markdown",
      "metadata": {
        "id": "view-in-github",
        "colab_type": "text"
      },
      "source": [
        "<a href=\"https://colab.research.google.com/github/kanyaweeud/KKU_data_mining/blob/master/HW3.ipynb\" target=\"_parent\"><img src=\"https://colab.research.google.com/assets/colab-badge.svg\" alt=\"Open In Colab\"/></a>"
      ]
    },
    {
      "cell_type": "markdown",
      "metadata": {
        "id": "H0a2Khp5ckqG",
        "colab_type": "text"
      },
      "source": [
        "ตัวอย่างการเรียกใช้ package ที่ชื่อว่า pandas"
      ]
    },
    {
      "cell_type": "markdown",
      "metadata": {
        "id": "RXSC41yidIpP",
        "colab_type": "text"
      },
      "source": [
        "ตัวอย่างการเรียกใช้ package ที่ชื่อว่า pandas"
      ]
    },
    {
      "cell_type": "code",
      "metadata": {
        "id": "Mq9cHmenW_Hv",
        "colab_type": "code",
        "colab": {}
      },
      "source": [
        "import pandas "
      ],
      "execution_count": null,
      "outputs": []
    },
    {
      "cell_type": "markdown",
      "metadata": {
        "id": "Q-Dc1orWQ3Ii",
        "colab_type": "text"
      },
      "source": [
        "เป็นคำสั่งเรียกใช้ package ที่ชื่อว่า pandas "
      ]
    },
    {
      "cell_type": "code",
      "metadata": {
        "id": "xqB-YVlfXNTP",
        "colab_type": "code",
        "colab": {}
      },
      "source": [
        "import pandas as pd"
      ],
      "execution_count": null,
      "outputs": []
    },
    {
      "cell_type": "markdown",
      "metadata": {
        "id": "s4ZujHFRRFO-",
        "colab_type": "text"
      },
      "source": [
        "เป็นคำสั่งเรียกใช้ package ที่ชื่อว่า pandas as pd"
      ]
    },
    {
      "cell_type": "code",
      "metadata": {
        "id": "aj9W6InNXMZ4",
        "colab_type": "code",
        "colab": {
          "base_uri": "https://localhost:8080/",
          "height": 122
        },
        "outputId": "614f7fa9-2e62-4387-a8ee-fd853b6fdf2c"
      },
      "source": [
        "from google.colab import drive\n",
        "drive.mount('/content/drive')"
      ],
      "execution_count": null,
      "outputs": [
        {
          "output_type": "stream",
          "text": [
            "Go to this URL in a browser: https://accounts.google.com/o/oauth2/auth?client_id=947318989803-6bn6qk8qdgf4n4g3pfee6491hc0brc4i.apps.googleusercontent.com&redirect_uri=urn%3aietf%3awg%3aoauth%3a2.0%3aoob&response_type=code&scope=email%20https%3a%2f%2fwww.googleapis.com%2fauth%2fdocs.test%20https%3a%2f%2fwww.googleapis.com%2fauth%2fdrive%20https%3a%2f%2fwww.googleapis.com%2fauth%2fdrive.photos.readonly%20https%3a%2f%2fwww.googleapis.com%2fauth%2fpeopleapi.readonly\n",
            "\n",
            "Enter your authorization code:\n",
            "··········\n",
            "Mounted at /content/drive\n"
          ],
          "name": "stdout"
        }
      ]
    },
    {
      "cell_type": "markdown",
      "metadata": {
        "id": "W7aeDIf2RLii",
        "colab_type": "text"
      },
      "source": [
        "นำ file จาก google drive มาที่ google colab"
      ]
    },
    {
      "cell_type": "code",
      "metadata": {
        "id": "u2veSA0-dSPH",
        "colab_type": "code",
        "colab": {}
      },
      "source": [
        "import os"
      ],
      "execution_count": null,
      "outputs": []
    },
    {
      "cell_type": "markdown",
      "metadata": {
        "id": "Jqm-LqmoRXCw",
        "colab_type": "text"
      },
      "source": [
        "เป็นคำสั่งเรียกใช้ package ที่ชื่อว่า pandas"
      ]
    },
    {
      "cell_type": "code",
      "metadata": {
        "id": "jwe8yhTlfO7A",
        "colab_type": "code",
        "colab": {}
      },
      "source": [
        "path = '/content/drive/My Drive/DWDM_Material'"
      ],
      "execution_count": null,
      "outputs": []
    },
    {
      "cell_type": "markdown",
      "metadata": {
        "id": "pS78A6TzRZJm",
        "colab_type": "text"
      },
      "source": [
        "จัดเก็บข้อมูลไฟล์"
      ]
    },
    {
      "cell_type": "code",
      "metadata": {
        "id": "W00jvP5ndWpP",
        "colab_type": "code",
        "colab": {
          "base_uri": "https://localhost:8080/",
          "height": 34
        },
        "outputId": "161d7dc0-6ed7-4865-ff48-53c2fd4a0b30"
      },
      "source": [
        "os.listdir(path)"
      ],
      "execution_count": null,
      "outputs": [
        {
          "output_type": "execute_result",
          "data": {
            "text/plain": [
              "['test.csv']"
            ]
          },
          "metadata": {
            "tags": []
          },
          "execution_count": 9
        }
      ]
    },
    {
      "cell_type": "markdown",
      "metadata": {
        "id": "gSvg1ARmReVx",
        "colab_type": "text"
      },
      "source": [
        "จัดเก็บข้อมูลไปที่ os.listdir แล้วรันผลได้ชื่อ file ว่า ['test.csv'] \n",
        "\n",
        "*  \n",
        "*   \n",
        "\n"
      ]
    },
    {
      "cell_type": "code",
      "metadata": {
        "id": "tUezMCQZdl-V",
        "colab_type": "code",
        "colab": {}
      },
      "source": [
        "import pandas as pd"
      ],
      "execution_count": null,
      "outputs": []
    },
    {
      "cell_type": "markdown",
      "metadata": {
        "id": "m829zFjOR71l",
        "colab_type": "text"
      },
      "source": [
        "เป็นคำสั่งเรียกใช้ package ที่ชื่อว่า pandas as pd"
      ]
    },
    {
      "cell_type": "code",
      "metadata": {
        "id": "bMx8HKIJhLLd",
        "colab_type": "code",
        "colab": {
          "base_uri": "https://localhost:8080/",
          "height": 34
        },
        "outputId": "59ba6c01-cca5-44b3-8f8b-dbc98bac81fd"
      },
      "source": [
        "file_path = os.path.join(path,'test.csv')\n",
        "print(file_path)"
      ],
      "execution_count": null,
      "outputs": [
        {
          "output_type": "stream",
          "text": [
            "/content/drive/My Drive/DWDM_Material/test.csv\n"
          ],
          "name": "stdout"
        }
      ]
    },
    {
      "cell_type": "markdown",
      "metadata": {
        "id": "s3274oSvR_PZ",
        "colab_type": "text"
      },
      "source": [
        "แสดงที่เก็บข้อมูล"
      ]
    },
    {
      "cell_type": "code",
      "metadata": {
        "id": "zGEXzhKJgJ1F",
        "colab_type": "code",
        "colab": {
          "base_uri": "https://localhost:8080/",
          "height": 204
        },
        "outputId": "70315426-8027-4148-d795-f3655091d596"
      },
      "source": [
        "pd.read_csv(file_path).head()"
      ],
      "execution_count": null,
      "outputs": [
        {
          "output_type": "execute_result",
          "data": {
            "text/html": [
              "<div>\n",
              "<style scoped>\n",
              "    .dataframe tbody tr th:only-of-type {\n",
              "        vertical-align: middle;\n",
              "    }\n",
              "\n",
              "    .dataframe tbody tr th {\n",
              "        vertical-align: top;\n",
              "    }\n",
              "\n",
              "    .dataframe thead th {\n",
              "        text-align: right;\n",
              "    }\n",
              "</style>\n",
              "<table border=\"1\" class=\"dataframe\">\n",
              "  <thead>\n",
              "    <tr style=\"text-align: right;\">\n",
              "      <th></th>\n",
              "      <th>Unnamed: 0</th>\n",
              "      <th>x</th>\n",
              "      <th>y</th>\n",
              "    </tr>\n",
              "  </thead>\n",
              "  <tbody>\n",
              "    <tr>\n",
              "      <th>0</th>\n",
              "      <td>0</td>\n",
              "      <td>55.3846</td>\n",
              "      <td>97.1795</td>\n",
              "    </tr>\n",
              "    <tr>\n",
              "      <th>1</th>\n",
              "      <td>1</td>\n",
              "      <td>51.5385</td>\n",
              "      <td>96.0256</td>\n",
              "    </tr>\n",
              "    <tr>\n",
              "      <th>2</th>\n",
              "      <td>2</td>\n",
              "      <td>46.1538</td>\n",
              "      <td>94.4872</td>\n",
              "    </tr>\n",
              "    <tr>\n",
              "      <th>3</th>\n",
              "      <td>3</td>\n",
              "      <td>42.8205</td>\n",
              "      <td>91.4103</td>\n",
              "    </tr>\n",
              "    <tr>\n",
              "      <th>4</th>\n",
              "      <td>4</td>\n",
              "      <td>40.7692</td>\n",
              "      <td>88.3333</td>\n",
              "    </tr>\n",
              "  </tbody>\n",
              "</table>\n",
              "</div>"
            ],
            "text/plain": [
              "   Unnamed: 0        x        y\n",
              "0           0  55.3846  97.1795\n",
              "1           1  51.5385  96.0256\n",
              "2           2  46.1538  94.4872\n",
              "3           3  42.8205  91.4103\n",
              "4           4  40.7692  88.3333"
            ]
          },
          "metadata": {
            "tags": []
          },
          "execution_count": 12
        }
      ]
    },
    {
      "cell_type": "code",
      "metadata": {
        "id": "yN7FkmgHjTmJ",
        "colab_type": "code",
        "colab": {}
      },
      "source": [
        "table1 = pd.read_csv(file_path)"
      ],
      "execution_count": null,
      "outputs": []
    },
    {
      "cell_type": "code",
      "metadata": {
        "id": "1ufATY5FjoCp",
        "colab_type": "code",
        "colab": {
          "base_uri": "https://localhost:8080/",
          "height": 204
        },
        "outputId": "7b2fcb7f-4e21-4ca7-e4ed-a1ea02802c02"
      },
      "source": [
        "table1.head()"
      ],
      "execution_count": null,
      "outputs": [
        {
          "output_type": "execute_result",
          "data": {
            "text/html": [
              "<div>\n",
              "<style scoped>\n",
              "    .dataframe tbody tr th:only-of-type {\n",
              "        vertical-align: middle;\n",
              "    }\n",
              "\n",
              "    .dataframe tbody tr th {\n",
              "        vertical-align: top;\n",
              "    }\n",
              "\n",
              "    .dataframe thead th {\n",
              "        text-align: right;\n",
              "    }\n",
              "</style>\n",
              "<table border=\"1\" class=\"dataframe\">\n",
              "  <thead>\n",
              "    <tr style=\"text-align: right;\">\n",
              "      <th></th>\n",
              "      <th>Unnamed: 0</th>\n",
              "      <th>x</th>\n",
              "      <th>y</th>\n",
              "    </tr>\n",
              "  </thead>\n",
              "  <tbody>\n",
              "    <tr>\n",
              "      <th>0</th>\n",
              "      <td>0</td>\n",
              "      <td>55.3846</td>\n",
              "      <td>97.1795</td>\n",
              "    </tr>\n",
              "    <tr>\n",
              "      <th>1</th>\n",
              "      <td>1</td>\n",
              "      <td>51.5385</td>\n",
              "      <td>96.0256</td>\n",
              "    </tr>\n",
              "    <tr>\n",
              "      <th>2</th>\n",
              "      <td>2</td>\n",
              "      <td>46.1538</td>\n",
              "      <td>94.4872</td>\n",
              "    </tr>\n",
              "    <tr>\n",
              "      <th>3</th>\n",
              "      <td>3</td>\n",
              "      <td>42.8205</td>\n",
              "      <td>91.4103</td>\n",
              "    </tr>\n",
              "    <tr>\n",
              "      <th>4</th>\n",
              "      <td>4</td>\n",
              "      <td>40.7692</td>\n",
              "      <td>88.3333</td>\n",
              "    </tr>\n",
              "  </tbody>\n",
              "</table>\n",
              "</div>"
            ],
            "text/plain": [
              "   Unnamed: 0        x        y\n",
              "0           0  55.3846  97.1795\n",
              "1           1  51.5385  96.0256\n",
              "2           2  46.1538  94.4872\n",
              "3           3  42.8205  91.4103\n",
              "4           4  40.7692  88.3333"
            ]
          },
          "metadata": {
            "tags": []
          },
          "execution_count": 14
        }
      ]
    },
    {
      "cell_type": "code",
      "metadata": {
        "id": "OA55kDwxkbuH",
        "colab_type": "code",
        "colab": {}
      },
      "source": [
        "from matplotlib import pyplot as plt"
      ],
      "execution_count": null,
      "outputs": []
    },
    {
      "cell_type": "markdown",
      "metadata": {
        "id": "QP6jSQaMSL93",
        "colab_type": "text"
      },
      "source": [
        "เป็นคำสั่งแสดงตัวอย่างข้อมูลในไฟล์"
      ]
    },
    {
      "cell_type": "code",
      "metadata": {
        "id": "VESLaZeKk2Rj",
        "colab_type": "code",
        "colab": {
          "base_uri": "https://localhost:8080/",
          "height": 282
        },
        "outputId": "29db78c1-b512-4368-f935-b6826dee2d95"
      },
      "source": [
        "plt.scatter(table1['x'],table1['y'])"
      ],
      "execution_count": null,
      "outputs": [
        {
          "output_type": "execute_result",
          "data": {
            "text/plain": [
              "<matplotlib.collections.PathCollection at 0x7f2b6bbf7eb8>"
            ]
          },
          "metadata": {
            "tags": []
          },
          "execution_count": 16
        },
        {
          "output_type": "display_data",
          "data": {
            "image/png": "[encoded data removed]",
            "text/plain": [
              "<Figure size 432x288 with 1 Axes>"
            ]
          },
          "metadata": {
            "tags": [],
            "needs_background": "light"
          }
        }
      ]
    },
    {
      "cell_type": "markdown",
      "metadata": {
        "id": "-c8TbEwfSSwi",
        "colab_type": "text"
      },
      "source": [
        "ผลรันจากตารางจะได้รูปไดโนเสาร์"
      ]
    },
    {
      "cell_type": "code",
      "metadata": {
        "id": "dd0yTt9tkTcM",
        "colab_type": "code",
        "colab": {
          "base_uri": "https://localhost:8080/",
          "height": 221
        },
        "outputId": "5a8cfd8f-47f9-4a2e-f649-11829688bb85"
      },
      "source": [
        "table1['x']"
      ],
      "execution_count": null,
      "outputs": [
        {
          "output_type": "execute_result",
          "data": {
            "text/plain": [
              "0      55.3846\n",
              "1      51.5385\n",
              "2      46.1538\n",
              "3      42.8205\n",
              "4      40.7692\n",
              "        ...   \n",
              "137    39.4872\n",
              "138    91.2821\n",
              "139    50.0000\n",
              "140    47.9487\n",
              "141    44.1026\n",
              "Name: x, Length: 142, dtype: float64"
            ]
          },
          "metadata": {
            "tags": []
          },
          "execution_count": 17
        }
      ]
    },
    {
      "cell_type": "code",
      "metadata": {
        "id": "lvy_hiiplKhT",
        "colab_type": "code",
        "colab": {
          "base_uri": "https://localhost:8080/",
          "height": 297
        },
        "outputId": "9ccf3ee1-6be9-4f02-deed-6be1be76e68f"
      },
      "source": [
        "table1.describe()"
      ],
      "execution_count": null,
      "outputs": [
        {
          "output_type": "execute_result",
          "data": {
            "text/html": [
              "<div>\n",
              "<style scoped>\n",
              "    .dataframe tbody tr th:only-of-type {\n",
              "        vertical-align: middle;\n",
              "    }\n",
              "\n",
              "    .dataframe tbody tr th {\n",
              "        vertical-align: top;\n",
              "    }\n",
              "\n",
              "    .dataframe thead th {\n",
              "        text-align: right;\n",
              "    }\n",
              "</style>\n",
              "<table border=\"1\" class=\"dataframe\">\n",
              "  <thead>\n",
              "    <tr style=\"text-align: right;\">\n",
              "      <th></th>\n",
              "      <th>Unnamed: 0</th>\n",
              "      <th>x</th>\n",
              "      <th>y</th>\n",
              "    </tr>\n",
              "  </thead>\n",
              "  <tbody>\n",
              "    <tr>\n",
              "      <th>count</th>\n",
              "      <td>142.000000</td>\n",
              "      <td>142.000000</td>\n",
              "      <td>142.000000</td>\n",
              "    </tr>\n",
              "    <tr>\n",
              "      <th>mean</th>\n",
              "      <td>70.500000</td>\n",
              "      <td>54.263273</td>\n",
              "      <td>47.832253</td>\n",
              "    </tr>\n",
              "    <tr>\n",
              "      <th>std</th>\n",
              "      <td>41.135953</td>\n",
              "      <td>16.765142</td>\n",
              "      <td>26.935403</td>\n",
              "    </tr>\n",
              "    <tr>\n",
              "      <th>min</th>\n",
              "      <td>0.000000</td>\n",
              "      <td>22.307700</td>\n",
              "      <td>2.948700</td>\n",
              "    </tr>\n",
              "    <tr>\n",
              "      <th>25%</th>\n",
              "      <td>35.250000</td>\n",
              "      <td>44.102600</td>\n",
              "      <td>25.288450</td>\n",
              "    </tr>\n",
              "    <tr>\n",
              "      <th>50%</th>\n",
              "      <td>70.500000</td>\n",
              "      <td>53.333300</td>\n",
              "      <td>46.025600</td>\n",
              "    </tr>\n",
              "    <tr>\n",
              "      <th>75%</th>\n",
              "      <td>105.750000</td>\n",
              "      <td>64.743600</td>\n",
              "      <td>68.525675</td>\n",
              "    </tr>\n",
              "    <tr>\n",
              "      <th>max</th>\n",
              "      <td>141.000000</td>\n",
              "      <td>98.205100</td>\n",
              "      <td>99.487200</td>\n",
              "    </tr>\n",
              "  </tbody>\n",
              "</table>\n",
              "</div>"
            ],
            "text/plain": [
              "       Unnamed: 0           x           y\n",
              "count  142.000000  142.000000  142.000000\n",
              "mean    70.500000   54.263273   47.832253\n",
              "std     41.135953   16.765142   26.935403\n",
              "min      0.000000   22.307700    2.948700\n",
              "25%     35.250000   44.102600   25.288450\n",
              "50%     70.500000   53.333300   46.025600\n",
              "75%    105.750000   64.743600   68.525675\n",
              "max    141.000000   98.205100   99.487200"
            ]
          },
          "metadata": {
            "tags": []
          },
          "execution_count": 18
        }
      ]
    },
    {
      "cell_type": "markdown",
      "metadata": {
        "id": "d94l_Bc1nXSb",
        "colab_type": "text"
      },
      "source": [
        "Python Data Structure\n",
        "\n",
        "Variable"
      ]
    },
    {
      "cell_type": "code",
      "metadata": {
        "id": "Dpyy61D9nlSB",
        "colab_type": "code",
        "colab": {}
      },
      "source": [
        "a = 1\n",
        "b = 3"
      ],
      "execution_count": null,
      "outputs": []
    },
    {
      "cell_type": "code",
      "metadata": {
        "id": "SlCRcBDqnolq",
        "colab_type": "code",
        "colab": {}
      },
      "source": [
        "c = a + b"
      ],
      "execution_count": null,
      "outputs": []
    },
    {
      "cell_type": "code",
      "metadata": {
        "id": "GhT9keVunrw6",
        "colab_type": "code",
        "colab": {
          "base_uri": "https://localhost:8080/",
          "height": 34
        },
        "outputId": "6a2d1ec3-ab8d-4636-c820-fd431bc87a05"
      },
      "source": [
        "c"
      ],
      "execution_count": null,
      "outputs": [
        {
          "output_type": "execute_result",
          "data": {
            "text/plain": [
              "4"
            ]
          },
          "metadata": {
            "tags": []
          },
          "execution_count": 21
        }
      ]
    },
    {
      "cell_type": "code",
      "metadata": {
        "id": "x8XYBXz6n3VB",
        "colab_type": "code",
        "colab": {}
      },
      "source": [
        "name = 'a'"
      ],
      "execution_count": null,
      "outputs": []
    },
    {
      "cell_type": "code",
      "metadata": {
        "id": "Iupx7qEbn5TA",
        "colab_type": "code",
        "colab": {
          "base_uri": "https://localhost:8080/",
          "height": 35
        },
        "outputId": "571093b4-4d49-4a97-98bb-3b3d88068f43"
      },
      "source": [
        "name"
      ],
      "execution_count": null,
      "outputs": [
        {
          "output_type": "execute_result",
          "data": {
            "application/vnd.google.colaboratory.intrinsic+json": {
              "type": "string"
            },
            "text/plain": [
              "'a'"
            ]
          },
          "metadata": {
            "tags": []
          },
          "execution_count": 23
        }
      ]
    },
    {
      "cell_type": "code",
      "metadata": {
        "id": "clRKYkesn8TS",
        "colab_type": "code",
        "colab": {}
      },
      "source": [
        "one = '1'"
      ],
      "execution_count": null,
      "outputs": []
    },
    {
      "cell_type": "code",
      "metadata": {
        "id": "BUY2iDXcn_cb",
        "colab_type": "code",
        "colab": {
          "base_uri": "https://localhost:8080/",
          "height": 163
        },
        "outputId": "677ce7d9-b2bd-4387-a7b3-f96c10f390c4"
      },
      "source": [
        "a + one"
      ],
      "execution_count": null,
      "outputs": [
        {
          "output_type": "error",
          "ename": "TypeError",
          "evalue": "ignored",
          "traceback": [
            "\u001b[0;31m---------------------------------------------------------------------------\u001b[0m",
            "\u001b[0;31mTypeError\u001b[0m                                 Traceback (most recent call last)",
            "\u001b[0;32m<ipython-input-25-5fb4ec9c50dc>\u001b[0m in \u001b[0;36m<module>\u001b[0;34m()\u001b[0m\n\u001b[0;32m----> 1\u001b[0;31m \u001b[0ma\u001b[0m \u001b[0;34m+\u001b[0m \u001b[0mone\u001b[0m\u001b[0;34m\u001b[0m\u001b[0;34m\u001b[0m\u001b[0m\n\u001b[0m",
            "\u001b[0;31mTypeError\u001b[0m: unsupported operand type(s) for +: 'int' and 'str'"
          ]
        }
      ]
    },
    {
      "cell_type": "markdown",
      "metadata": {
        "id": "6_z-Yy1EpwrA",
        "colab_type": "text"
      },
      "source": [
        "# Casting int() float() str()"
      ]
    },
    {
      "cell_type": "code",
      "metadata": {
        "id": "4IGVLl2woMl9",
        "colab_type": "code",
        "colab": {}
      },
      "source": [
        "a + int(one)"
      ],
      "execution_count": null,
      "outputs": []
    },
    {
      "cell_type": "code",
      "metadata": {
        "id": "KXXdgqAhpTyi",
        "colab_type": "code",
        "colab": {}
      },
      "source": [
        "num = '112.76'"
      ],
      "execution_count": null,
      "outputs": []
    },
    {
      "cell_type": "code",
      "metadata": {
        "id": "2WdJ8lnepLRc",
        "colab_type": "code",
        "colab": {}
      },
      "source": [
        "int(num)"
      ],
      "execution_count": null,
      "outputs": []
    },
    {
      "cell_type": "code",
      "metadata": {
        "id": "u-Trq62XpO_P",
        "colab_type": "code",
        "colab": {}
      },
      "source": [
        "float(num)"
      ],
      "execution_count": null,
      "outputs": []
    },
    {
      "cell_type": "code",
      "metadata": {
        "id": "qV0k7XzYpZdS",
        "colab_type": "code",
        "colab": {}
      },
      "source": [
        "str(float(num))"
      ],
      "execution_count": null,
      "outputs": []
    },
    {
      "cell_type": "markdown",
      "metadata": {
        "id": "u3a1RmQ_qiNL",
        "colab_type": "text"
      },
      "source": [
        "# เปลี่ยนค่า num2 = '112.76887' เป็นเลขจำนวนเต็ม 112\n",
        "\n",
        "# ด้วย function casting int() float() str() เท่านั้น"
      ]
    },
    {
      "cell_type": "code",
      "metadata": {
        "id": "nX6sjWodETFW",
        "colab_type": "code",
        "colab": {}
      },
      "source": [
        "num2 = '112.76887'"
      ],
      "execution_count": null,
      "outputs": []
    },
    {
      "cell_type": "code",
      "metadata": {
        "id": "ba2hucdZqOVu",
        "colab_type": "code",
        "colab": {
          "base_uri": "https://localhost:8080/",
          "height": 34
        },
        "outputId": "d0532784-85e9-4f3e-94ec-c0829ca7ba87"
      },
      "source": [
        "num2 = float(num2)\n",
        "str(float(num2))\n",
        "num2 = int(num2)\n",
        "int(num2)"
      ],
      "execution_count": null,
      "outputs": [
        {
          "output_type": "execute_result",
          "data": {
            "text/plain": [
              "112"
            ]
          },
          "metadata": {
            "tags": []
          },
          "execution_count": 27
        }
      ]
    },
    {
      "cell_type": "markdown",
      "metadata": {
        "id": "ofROWCYXIoiO",
        "colab_type": "text"
      },
      "source": [
        "### list()"
      ]
    },
    {
      "cell_type": "code",
      "metadata": {
        "id": "IQUCDoOnIrtz",
        "colab_type": "code",
        "colab": {}
      },
      "source": [
        "list_a = [1,3,7,19]"
      ],
      "execution_count": null,
      "outputs": []
    },
    {
      "cell_type": "markdown",
      "metadata": {
        "id": "XKo6GAwcpl_H",
        "colab_type": "text"
      },
      "source": [
        "index คือตัวชี้ค่าใน list"
      ]
    },
    {
      "cell_type": "code",
      "metadata": {
        "id": "memXNLw-Jslk",
        "colab_type": "code",
        "colab": {
          "base_uri": "https://localhost:8080/",
          "height": 34
        },
        "outputId": "767e7a82-d5d1-499a-d1db-b892df1c3ce1"
      },
      "source": [
        "list_a[0]"
      ],
      "execution_count": null,
      "outputs": [
        {
          "output_type": "execute_result",
          "data": {
            "text/plain": [
              "1"
            ]
          },
          "metadata": {
            "tags": []
          },
          "execution_count": 30
        }
      ]
    },
    {
      "cell_type": "code",
      "metadata": {
        "id": "QPNX6yzFJ9ct",
        "colab_type": "code",
        "colab": {
          "base_uri": "https://localhost:8080/",
          "height": 34
        },
        "outputId": "b584b792-3207-4864-9f2b-1be6c968006c"
      },
      "source": [
        "list_a[-1]"
      ],
      "execution_count": null,
      "outputs": [
        {
          "output_type": "execute_result",
          "data": {
            "text/plain": [
              "19"
            ]
          },
          "metadata": {
            "tags": []
          },
          "execution_count": 31
        }
      ]
    },
    {
      "cell_type": "code",
      "metadata": {
        "id": "_TWMOUyYKTr0",
        "colab_type": "code",
        "colab": {
          "base_uri": "https://localhost:8080/",
          "height": 34
        },
        "outputId": "04dae1b9-b43d-45a5-95d5-cf772e512a0f"
      },
      "source": [
        "list_a[-4]"
      ],
      "execution_count": null,
      "outputs": [
        {
          "output_type": "execute_result",
          "data": {
            "text/plain": [
              "1"
            ]
          },
          "metadata": {
            "tags": []
          },
          "execution_count": 32
        }
      ]
    },
    {
      "cell_type": "code",
      "metadata": {
        "id": "m9smMchyKYC8",
        "colab_type": "code",
        "colab": {
          "base_uri": "https://localhost:8080/",
          "height": 34
        },
        "outputId": "c828e4de-017b-4504-b3dc-1c58231df6a7"
      },
      "source": [
        "list_a[2]"
      ],
      "execution_count": null,
      "outputs": [
        {
          "output_type": "execute_result",
          "data": {
            "text/plain": [
              "7"
            ]
          },
          "metadata": {
            "tags": []
          },
          "execution_count": 33
        }
      ]
    },
    {
      "cell_type": "markdown",
      "metadata": {
        "id": "3jQ0wQxUKd-h",
        "colab_type": "text"
      },
      "source": [
        "# len คือความยาวของ **list**"
      ]
    },
    {
      "cell_type": "code",
      "metadata": {
        "id": "xiNYjP36Kajj",
        "colab_type": "code",
        "colab": {
          "base_uri": "https://localhost:8080/",
          "height": 34
        },
        "outputId": "ef4408b7-32df-4ad8-91f1-023aaaf1dcd3"
      },
      "source": [
        "len(list_a)"
      ],
      "execution_count": null,
      "outputs": [
        {
          "output_type": "execute_result",
          "data": {
            "text/plain": [
              "4"
            ]
          },
          "metadata": {
            "tags": []
          },
          "execution_count": 34
        }
      ]
    },
    {
      "cell_type": "markdown",
      "metadata": {
        "id": "-Qc7r5NfK4vd",
        "colab_type": "text"
      },
      "source": [
        "# list สามารถใช้ string ได้ และซ้อน list ได้"
      ]
    },
    {
      "cell_type": "code",
      "metadata": {
        "id": "AvLo4FQDKhMU",
        "colab_type": "code",
        "colab": {}
      },
      "source": [
        "list_b = [1,4,'thai',['a',3,9]]"
      ],
      "execution_count": null,
      "outputs": []
    },
    {
      "cell_type": "code",
      "metadata": {
        "id": "HDugPTBVK-HT",
        "colab_type": "code",
        "colab": {
          "base_uri": "https://localhost:8080/",
          "height": 34
        },
        "outputId": "40555d36-274a-4f86-9a8a-0f523ee8d9a3"
      },
      "source": [
        "list_b[-1]"
      ],
      "execution_count": null,
      "outputs": [
        {
          "output_type": "execute_result",
          "data": {
            "text/plain": [
              "['a', 3, 9]"
            ]
          },
          "metadata": {
            "tags": []
          },
          "execution_count": 39
        }
      ]
    },
    {
      "cell_type": "code",
      "metadata": {
        "id": "18at8rDWLTg8",
        "colab_type": "code",
        "colab": {
          "base_uri": "https://localhost:8080/",
          "height": 35
        },
        "outputId": "8eda6aa4-9878-4c6d-e1c7-ed261ed2cbfd"
      },
      "source": [
        "list_b[-1][0]"
      ],
      "execution_count": null,
      "outputs": [
        {
          "output_type": "execute_result",
          "data": {
            "application/vnd.google.colaboratory.intrinsic+json": {
              "type": "string"
            },
            "text/plain": [
              "'a'"
            ]
          },
          "metadata": {
            "tags": []
          },
          "execution_count": 141
        }
      ]
    },
    {
      "cell_type": "markdown",
      "metadata": {
        "id": "HN8Gb05sL9zB",
        "colab_type": "text"
      },
      "source": [
        "# list มีแค่บวก"
      ]
    },
    {
      "cell_type": "code",
      "metadata": {
        "id": "iu2vuYA3Lu2c",
        "colab_type": "code",
        "colab": {
          "base_uri": "https://localhost:8080/",
          "height": 34
        },
        "outputId": "f3857738-15e0-49a6-e41f-e8845995f322"
      },
      "source": [
        "list_c = list_a + list_b\n",
        "list_c "
      ],
      "execution_count": null,
      "outputs": [
        {
          "output_type": "execute_result",
          "data": {
            "text/plain": [
              "[1, 3, 7, 19, 1, 4, 'thai', ['a', 3, 9]]"
            ]
          },
          "metadata": {
            "tags": []
          },
          "execution_count": 43
        }
      ]
    },
    {
      "cell_type": "markdown",
      "metadata": {
        "id": "a0SRJOJOMZwN",
        "colab_type": "text"
      },
      "source": [
        "# Create empty list 1"
      ]
    },
    {
      "cell_type": "code",
      "metadata": {
        "id": "mgfg4PhQL29D",
        "colab_type": "code",
        "colab": {}
      },
      "source": [
        "list_a1 = []"
      ],
      "execution_count": null,
      "outputs": []
    },
    {
      "cell_type": "markdown",
      "metadata": {
        "id": "0M85ElURMjzM",
        "colab_type": "text"
      },
      "source": [
        "# Create empty list 2"
      ]
    },
    {
      "cell_type": "code",
      "metadata": {
        "id": "tj1TdYYhMmwT",
        "colab_type": "code",
        "colab": {}
      },
      "source": [
        "list_a2 = list()"
      ],
      "execution_count": null,
      "outputs": []
    },
    {
      "cell_type": "markdown",
      "metadata": {
        "id": "nGblxizONEYz",
        "colab_type": "text"
      },
      "source": [
        "# append เพิ่มสมาชิกต่อท้ายไปเรื่อยๆ"
      ]
    },
    {
      "cell_type": "code",
      "metadata": {
        "id": "EdKXNt9FM1wr",
        "colab_type": "code",
        "colab": {
          "base_uri": "https://localhost:8080/",
          "height": 34
        },
        "outputId": "801031f3-59fe-45ac-a209-a8eb5c979249"
      },
      "source": [
        "list_a1.append(666)\n",
        "list_a1"
      ],
      "execution_count": null,
      "outputs": [
        {
          "output_type": "execute_result",
          "data": {
            "text/plain": [
              "[[1, 3, 7, 19, 1, 4, 'thai', ['a', 3, 9]], 666, 666, 666]"
            ]
          },
          "metadata": {
            "tags": []
          },
          "execution_count": 63
        }
      ]
    },
    {
      "cell_type": "markdown",
      "metadata": {
        "id": "EGcP3NJkNxdk",
        "colab_type": "text"
      },
      "source": [
        "# ผลรันขึ้นอยู่กับว่ารันอะไรก่อน"
      ]
    },
    {
      "cell_type": "code",
      "metadata": {
        "id": "dN-e7ZXeNdN7",
        "colab_type": "code",
        "colab": {
          "base_uri": "https://localhost:8080/",
          "height": 34
        },
        "outputId": "cb7167cb-dd6a-4305-f479-3b95a839a5ce"
      },
      "source": [
        "list_a1.append(list_c)\n",
        "list_a1"
      ],
      "execution_count": null,
      "outputs": [
        {
          "output_type": "execute_result",
          "data": {
            "text/plain": [
              "[[1, 3, 7, 19, 1, 4, 'thai', ['a', 3, 9]]]"
            ]
          },
          "metadata": {
            "tags": []
          },
          "execution_count": 58
        }
      ]
    },
    {
      "cell_type": "code",
      "metadata": {
        "id": "vFP14ij2NR-I",
        "colab_type": "code",
        "colab": {
          "base_uri": "https://localhost:8080/",
          "height": 34
        },
        "outputId": "132cc977-9ca5-4f66-86c8-5f4fe6eafe21"
      },
      "source": [
        "list_c"
      ],
      "execution_count": null,
      "outputs": [
        {
          "output_type": "execute_result",
          "data": {
            "text/plain": [
              "[1, 3, 7, 19, 1, 4, 'thai', ['a', 3, 9]]"
            ]
          },
          "metadata": {
            "tags": []
          },
          "execution_count": 54
        }
      ]
    },
    {
      "cell_type": "code",
      "metadata": {
        "id": "dl4z5wUPN33j",
        "colab_type": "code",
        "colab": {}
      },
      "source": [
        "list_a2 = list()"
      ],
      "execution_count": null,
      "outputs": []
    },
    {
      "cell_type": "code",
      "metadata": {
        "id": "Bz2d_q3GOAgr",
        "colab_type": "code",
        "colab": {
          "base_uri": "https://localhost:8080/",
          "height": 34
        },
        "outputId": "0f05f30d-8f16-438e-ec01-98922f356ab8"
      },
      "source": [
        "list_a1.append(666)\n",
        "list_a1"
      ],
      "execution_count": null,
      "outputs": [
        {
          "output_type": "execute_result",
          "data": {
            "text/plain": [
              "[666]"
            ]
          },
          "metadata": {
            "tags": []
          },
          "execution_count": 68
        }
      ]
    },
    {
      "cell_type": "markdown",
      "metadata": {
        "id": "KjE5HwE4OL-r",
        "colab_type": "text"
      },
      "source": [
        "# print แสดงค่า list นั้นๆ"
      ]
    },
    {
      "cell_type": "code",
      "metadata": {
        "id": "TsZDo7RBOMvr",
        "colab_type": "code",
        "colab": {
          "base_uri": "https://localhost:8080/",
          "height": 51
        },
        "outputId": "24c203ca-9ca6-4337-d73d-4f48db88928a"
      },
      "source": [
        "print(list_c)\n",
        "list_c.append(1234)\n",
        "print(list_c)"
      ],
      "execution_count": null,
      "outputs": [
        {
          "output_type": "stream",
          "text": [
            "[1, 3, 7, 19, 1, 4, 'thai', ['a', 3, 9]]\n",
            "[1, 3, 7, 19, 1, 4, 'thai', ['a', 3, 9], 1234]\n"
          ],
          "name": "stdout"
        }
      ]
    },
    {
      "cell_type": "markdown",
      "metadata": {
        "id": "PdaMNprDOjdz",
        "colab_type": "text"
      },
      "source": [
        "### string is a list of *characters*"
      ]
    },
    {
      "cell_type": "code",
      "metadata": {
        "id": "Sn6FuT1NOvGD",
        "colab_type": "code",
        "colab": {}
      },
      "source": [
        "word_a = 'statistics KKU'"
      ],
      "execution_count": null,
      "outputs": []
    },
    {
      "cell_type": "code",
      "metadata": {
        "id": "vUvoPCwXPDGz",
        "colab_type": "code",
        "colab": {
          "base_uri": "https://localhost:8080/",
          "height": 35
        },
        "outputId": "2f127e26-bcdc-4921-f2a6-e1a48b5a8705"
      },
      "source": [
        "word_a[-1]"
      ],
      "execution_count": null,
      "outputs": [
        {
          "output_type": "execute_result",
          "data": {
            "application/vnd.google.colaboratory.intrinsic+json": {
              "type": "string"
            },
            "text/plain": [
              "'U'"
            ]
          },
          "metadata": {
            "tags": []
          },
          "execution_count": 71
        }
      ]
    },
    {
      "cell_type": "markdown",
      "metadata": {
        "id": "OALz1oWwPoho",
        "colab_type": "text"
      },
      "source": [
        "ใส่เว้นวรรคก่อน **ผลรันก็จะเว้น**"
      ]
    },
    {
      "cell_type": "code",
      "metadata": {
        "id": "KPVLsAu-PZDW",
        "colab_type": "code",
        "colab": {
          "base_uri": "https://localhost:8080/",
          "height": 35
        },
        "outputId": "a4ccd246-d368-4bbb-b9f3-c9e82071818d"
      },
      "source": [
        "word_a + ' Thaland'"
      ],
      "execution_count": null,
      "outputs": [
        {
          "output_type": "execute_result",
          "data": {
            "application/vnd.google.colaboratory.intrinsic+json": {
              "type": "string"
            },
            "text/plain": [
              "'statistics KKU Thaland'"
            ]
          },
          "metadata": {
            "tags": []
          },
          "execution_count": 73
        }
      ]
    },
    {
      "cell_type": "markdown",
      "metadata": {
        "id": "hR_QrwyGP6ET",
        "colab_type": "text"
      },
      "source": [
        "ความยาว นับเว้นวรรคด้วย"
      ]
    },
    {
      "cell_type": "code",
      "metadata": {
        "id": "BNEiApX0PtXb",
        "colab_type": "code",
        "colab": {
          "base_uri": "https://localhost:8080/",
          "height": 34
        },
        "outputId": "ef7d14d8-6059-4321-d16c-fe3893b3c9f9"
      },
      "source": [
        "len(word_a)"
      ],
      "execution_count": null,
      "outputs": [
        {
          "output_type": "execute_result",
          "data": {
            "text/plain": [
              "14"
            ]
          },
          "metadata": {
            "tags": []
          },
          "execution_count": 74
        }
      ]
    },
    {
      "cell_type": "markdown",
      "metadata": {
        "id": "Pmg7OZdeQDmb",
        "colab_type": "text"
      },
      "source": [
        "# f คือ การแทรกตัวแปลใน string"
      ]
    },
    {
      "cell_type": "code",
      "metadata": {
        "id": "v3S1fdOuQotj",
        "colab_type": "code",
        "colab": {
          "base_uri": "https://localhost:8080/",
          "height": 35
        },
        "outputId": "e856c735-cfdf-4eb0-b7ed-c31969d0ccaa"
      },
      "source": [
        "'list_c = {list_c}'"
      ],
      "execution_count": null,
      "outputs": [
        {
          "output_type": "execute_result",
          "data": {
            "application/vnd.google.colaboratory.intrinsic+json": {
              "type": "string"
            },
            "text/plain": [
              "'list_c = {list_c}'"
            ]
          },
          "metadata": {
            "tags": []
          },
          "execution_count": 77
        }
      ]
    },
    {
      "cell_type": "code",
      "metadata": {
        "id": "MmmdJ8fbQD3t",
        "colab_type": "code",
        "colab": {
          "base_uri": "https://localhost:8080/",
          "height": 35
        },
        "outputId": "b5d74eb7-3f01-4304-9bc2-39afad1dcb4d"
      },
      "source": [
        "f'list_c = {list_c}'"
      ],
      "execution_count": null,
      "outputs": [
        {
          "output_type": "execute_result",
          "data": {
            "application/vnd.google.colaboratory.intrinsic+json": {
              "type": "string"
            },
            "text/plain": [
              "\"list_c = [1, 3, 7, 19, 1, 4, 'thai', ['a', 3, 9], 1234]\""
            ]
          },
          "metadata": {
            "tags": []
          },
          "execution_count": 82
        }
      ]
    },
    {
      "cell_type": "code",
      "metadata": {
        "id": "-p7uRcW9Q1HL",
        "colab_type": "code",
        "colab": {
          "base_uri": "https://localhost:8080/",
          "height": 35
        },
        "outputId": "a98b5956-6b35-40d0-85db-865956549f2c"
      },
      "source": [
        "f'modula example -> 4 mod 3 = {4%3}'"
      ],
      "execution_count": null,
      "outputs": [
        {
          "output_type": "execute_result",
          "data": {
            "application/vnd.google.colaboratory.intrinsic+json": {
              "type": "string"
            },
            "text/plain": [
              "'modula example -> 4 mod 3 = 1'"
            ]
          },
          "metadata": {
            "tags": []
          },
          "execution_count": 83
        }
      ]
    },
    {
      "cell_type": "markdown",
      "metadata": {
        "id": "sh6XHs-qRlGg",
        "colab_type": "text"
      },
      "source": [
        "### st_x "
      ]
    },
    {
      "cell_type": "code",
      "metadata": {
        "id": "KE0i0uExRhDi",
        "colab_type": "code",
        "colab": {
          "base_uri": "https://localhost:8080/",
          "height": 35
        },
        "outputId": "d778df2a-80a8-45d5-a8e8-fa866907f19f"
      },
      "source": [
        "st_x = f'list_c = {list_c}'\n",
        "st_x"
      ],
      "execution_count": null,
      "outputs": [
        {
          "output_type": "execute_result",
          "data": {
            "application/vnd.google.colaboratory.intrinsic+json": {
              "type": "string"
            },
            "text/plain": [
              "\"list_c = [1, 3, 7, 19, 1, 4, 'thai', ['a', 3, 9], 1234]\""
            ]
          },
          "metadata": {
            "tags": []
          },
          "execution_count": 84
        }
      ]
    },
    {
      "cell_type": "code",
      "metadata": {
        "id": "gQdfPppoRrtC",
        "colab_type": "code",
        "colab": {
          "base_uri": "https://localhost:8080/",
          "height": 35
        },
        "outputId": "de5fa67f-0c5e-4659-e092-aa9d8aa0f2db"
      },
      "source": [
        "f'modula example -> 4 mod 3 = {4%3}'"
      ],
      "execution_count": null,
      "outputs": [
        {
          "output_type": "execute_result",
          "data": {
            "application/vnd.google.colaboratory.intrinsic+json": {
              "type": "string"
            },
            "text/plain": [
              "'modula example -> 4 mod 3 = 1'"
            ]
          },
          "metadata": {
            "tags": []
          },
          "execution_count": 85
        }
      ]
    },
    {
      "cell_type": "markdown",
      "metadata": {
        "id": "cpPiXFtTR1Hs",
        "colab_type": "text"
      },
      "source": [
        "# split คือ การแยกสมาชิกออกจาก string"
      ]
    },
    {
      "cell_type": "code",
      "metadata": {
        "id": "CIWtDEoJR0XQ",
        "colab_type": "code",
        "colab": {
          "base_uri": "https://localhost:8080/",
          "height": 255
        },
        "outputId": "764def63-114b-4473-dba6-7a9b3ad17aee"
      },
      "source": [
        "print(st_x)\n",
        "st_x.split()"
      ],
      "execution_count": null,
      "outputs": [
        {
          "output_type": "stream",
          "text": [
            "list_c = [1, 3, 7, 19, 1, 4, 'thai', ['a', 3, 9], 1234]\n"
          ],
          "name": "stdout"
        },
        {
          "output_type": "execute_result",
          "data": {
            "text/plain": [
              "['list_c',\n",
              " '=',\n",
              " '[1,',\n",
              " '3,',\n",
              " '7,',\n",
              " '19,',\n",
              " '1,',\n",
              " '4,',\n",
              " \"'thai',\",\n",
              " \"['a',\",\n",
              " '3,',\n",
              " '9],',\n",
              " '1234]']"
            ]
          },
          "metadata": {
            "tags": []
          },
          "execution_count": 87
        }
      ]
    },
    {
      "cell_type": "code",
      "metadata": {
        "id": "bsHM5bKNTUbK",
        "colab_type": "code",
        "colab": {
          "base_uri": "https://localhost:8080/",
          "height": 221
        },
        "outputId": "86deaa9d-cfd8-402f-bac3-75955348b083"
      },
      "source": [
        "print(st_x)\n",
        "st_x.split(',')"
      ],
      "execution_count": null,
      "outputs": [
        {
          "output_type": "stream",
          "text": [
            "list_c = [1, 3, 7, 19, 1, 4, 'thai', ['a', 3, 9], 1234]\n"
          ],
          "name": "stdout"
        },
        {
          "output_type": "execute_result",
          "data": {
            "text/plain": [
              "['list_c = [1',\n",
              " ' 3',\n",
              " ' 7',\n",
              " ' 19',\n",
              " ' 1',\n",
              " ' 4',\n",
              " \" 'thai'\",\n",
              " \" ['a'\",\n",
              " ' 3',\n",
              " ' 9]',\n",
              " ' 1234]']"
            ]
          },
          "metadata": {
            "tags": []
          },
          "execution_count": 90
        }
      ]
    },
    {
      "cell_type": "code",
      "metadata": {
        "id": "LsEYeKBWTCcy",
        "colab_type": "code",
        "colab": {
          "base_uri": "https://localhost:8080/",
          "height": 51
        },
        "outputId": "cb5eb294-b27d-47d8-8d6d-1d440d0dd040"
      },
      "source": [
        "print(st_x)\n",
        "st_x.split(', ')"
      ],
      "execution_count": null,
      "outputs": [
        {
          "output_type": "stream",
          "text": [
            "list_c = [1, 3, 7, 19, 1, 4, 'thai', ['a', 3, 9], 1234]\n"
          ],
          "name": "stdout"
        },
        {
          "output_type": "execute_result",
          "data": {
            "text/plain": [
              "['list_c = [1', '3', '7', '19', '1', '4', \"'thai'\", \"['a'\", '3', '9]', '1234]']"
            ]
          },
          "metadata": {
            "tags": []
          },
          "execution_count": 89
        }
      ]
    },
    {
      "cell_type": "markdown",
      "metadata": {
        "id": "JSbcTlR6Tc_R",
        "colab_type": "text"
      },
      "source": [
        "# Loop"
      ]
    },
    {
      "cell_type": "markdown",
      "metadata": {
        "id": "OyAUOO5prSmn",
        "colab_type": "text"
      },
      "source": [
        "for จบด้วย :\n",
        "ตัวที่ tab จาก for คือ code ของ for"
      ]
    },
    {
      "cell_type": "code",
      "metadata": {
        "id": "de1hkulWTdej",
        "colab_type": "code",
        "colab": {
          "base_uri": "https://localhost:8080/",
          "height": 153
        },
        "outputId": "04427493-00d1-4e3b-c4d9-df13a176cbb1"
      },
      "source": [
        "for i in [1,2,3,4]:\n",
        "  print(f'first line {i}')\n",
        "  print(f'second line {2*i}')"
      ],
      "execution_count": null,
      "outputs": [
        {
          "output_type": "stream",
          "text": [
            "first line 1\n",
            "second line 2\n",
            "first line 2\n",
            "second line 4\n",
            "first line 3\n",
            "second line 6\n",
            "first line 4\n",
            "second line 8\n"
          ],
          "name": "stdout"
        }
      ]
    },
    {
      "cell_type": "code",
      "metadata": {
        "id": "7Iz_xlicUNdh",
        "colab_type": "code",
        "colab": {
          "base_uri": "https://localhost:8080/",
          "height": 85
        },
        "outputId": "4696092a-0196-4c11-8b84-e321055a5994"
      },
      "source": [
        "for i in [1,2,3,4]:\n",
        "  print('HaHaHa')"
      ],
      "execution_count": null,
      "outputs": [
        {
          "output_type": "stream",
          "text": [
            "HaHaHa\n",
            "HaHaHa\n",
            "HaHaHa\n",
            "HaHaHa\n"
          ],
          "name": "stdout"
        }
      ]
    },
    {
      "cell_type": "code",
      "metadata": {
        "id": "NnWWXeBlVyG1",
        "colab_type": "code",
        "colab": {
          "base_uri": "https://localhost:8080/",
          "height": 85
        },
        "outputId": "8fc3a494-e4e4-4a76-85c1-08d857811e2a"
      },
      "source": [
        "for x in list_a:\n",
        "  print(x)"
      ],
      "execution_count": null,
      "outputs": [
        {
          "output_type": "stream",
          "text": [
            "1\n",
            "3\n",
            "7\n",
            "19\n"
          ],
          "name": "stdout"
        }
      ]
    },
    {
      "cell_type": "markdown",
      "metadata": {
        "id": "taayxvISWQ43",
        "colab_type": "text"
      },
      "source": [
        "# range สร้าง list ที่มีค่าตั้งแต่ 0 ไปจนถึงค่าก่อนหน้าเลขที่ใส่เข้าไป"
      ]
    },
    {
      "cell_type": "code",
      "metadata": {
        "id": "7bFqMhsNWPqh",
        "colab_type": "code",
        "colab": {
          "base_uri": "https://localhost:8080/",
          "height": 34
        },
        "outputId": "c251e893-1805-4250-87f0-21769c068136"
      },
      "source": [
        "range(6)"
      ],
      "execution_count": null,
      "outputs": [
        {
          "output_type": "execute_result",
          "data": {
            "text/plain": [
              "range(0, 6)"
            ]
          },
          "metadata": {
            "tags": []
          },
          "execution_count": 97
        }
      ]
    },
    {
      "cell_type": "code",
      "metadata": {
        "id": "ogU9gUyHWe_R",
        "colab_type": "code",
        "colab": {
          "base_uri": "https://localhost:8080/",
          "height": 119
        },
        "outputId": "69c14bf6-e5b8-4c3f-fc70-5aa52f673e4d"
      },
      "source": [
        "for i in range(6):\n",
        "  print(i)"
      ],
      "execution_count": null,
      "outputs": [
        {
          "output_type": "stream",
          "text": [
            "0\n",
            "1\n",
            "2\n",
            "3\n",
            "4\n",
            "5\n"
          ],
          "name": "stdout"
        }
      ]
    },
    {
      "cell_type": "code",
      "metadata": {
        "id": "zj-bqIRJXCvh",
        "colab_type": "code",
        "colab": {
          "base_uri": "https://localhost:8080/",
          "height": 272
        },
        "outputId": "ecd75a7a-54a4-40fa-a041-85f1db0b11c6"
      },
      "source": [
        "for i in range(3): \n",
        "  print('start inner')\n",
        "  for j in range(3):\n",
        "      print(f'i = {i}, j = {j} ixj = {i*j}')\n",
        "  print('end inner')"
      ],
      "execution_count": null,
      "outputs": [
        {
          "output_type": "stream",
          "text": [
            "start inner\n",
            "i = 0, j = 0 ixj = 0\n",
            "i = 0, j = 1 ixj = 0\n",
            "i = 0, j = 2 ixj = 0\n",
            "end inner\n",
            "start inner\n",
            "i = 1, j = 0 ixj = 0\n",
            "i = 1, j = 1 ixj = 1\n",
            "i = 1, j = 2 ixj = 2\n",
            "end inner\n",
            "start inner\n",
            "i = 2, j = 0 ixj = 0\n",
            "i = 2, j = 1 ixj = 2\n",
            "i = 2, j = 2 ixj = 4\n",
            "end inner\n"
          ],
          "name": "stdout"
        }
      ]
    },
    {
      "cell_type": "markdown",
      "metadata": {
        "id": "ZeFzDvG4ZFdm",
        "colab_type": "text"
      },
      "source": [
        "# If statement (เงื่อนไข)"
      ]
    },
    {
      "cell_type": "markdown",
      "metadata": {
        "id": "5NEL4AE1r7aF",
        "colab_type": "text"
      },
      "source": [
        "***If statement (<,>,<=,>=,==,!=)***"
      ]
    },
    {
      "cell_type": "code",
      "metadata": {
        "id": "4U-AgOmeYRZK",
        "colab_type": "code",
        "colab": {
          "base_uri": "https://localhost:8080/",
          "height": 34
        },
        "outputId": "bf05dced-de8d-44a4-e885-7df76b263803"
      },
      "source": [
        "stringX = 'abcdefghijklmnopq'\n",
        "if len(stringX) > 6:\n",
        "  print('stringX is longer than 6')"
      ],
      "execution_count": null,
      "outputs": [
        {
          "output_type": "stream",
          "text": [
            "stringX is longer than 6\n"
          ],
          "name": "stdout"
        }
      ]
    },
    {
      "cell_type": "code",
      "metadata": {
        "id": "vMvsJC0lZ0Cn",
        "colab_type": "code",
        "colab": {}
      },
      "source": [
        "stringX = 'abcdefghijklmnopq'\n",
        "if len(stringX) > 100:\n",
        "  print('stringX is longer than 6')"
      ],
      "execution_count": null,
      "outputs": []
    },
    {
      "cell_type": "markdown",
      "metadata": {
        "id": "oOcdgCSJaFxB",
        "colab_type": "text"
      },
      "source": [
        "^ เช็คแล้วไม่เจอ เลยไม่ทำอะไร"
      ]
    },
    {
      "cell_type": "code",
      "metadata": {
        "id": "A8Cj2rLIaKcQ",
        "colab_type": "code",
        "colab": {
          "base_uri": "https://localhost:8080/",
          "height": 34
        },
        "outputId": "5a82fcfd-58df-4863-ad30-34226529f451"
      },
      "source": [
        "stringX = 'abcdefghijklmnopq'\n",
        "if len(stringX) > 100:\n",
        "  print('stringX is longer than 6')\n",
        "else:\n",
        "  print('xxx')"
      ],
      "execution_count": null,
      "outputs": [
        {
          "output_type": "stream",
          "text": [
            "xxx\n"
          ],
          "name": "stdout"
        }
      ]
    },
    {
      "cell_type": "code",
      "metadata": {
        "id": "QyXEqiS1aaZo",
        "colab_type": "code",
        "colab": {
          "base_uri": "https://localhost:8080/",
          "height": 34
        },
        "outputId": "f3cc3645-1a08-4d9e-bcb1-bbfa6900e53c"
      },
      "source": [
        "stringX = 'abcdefghijklmnopq'\n",
        "if len(stringX) > 100:\n",
        "  print('stringX is longer than 6')\n",
        "elif len(stringX) == 17:\n",
        "  print(stringX)\n",
        "else:\n",
        "  print('xxx')"
      ],
      "execution_count": null,
      "outputs": [
        {
          "output_type": "stream",
          "text": [
            "abcdefghijklmnopq\n"
          ],
          "name": "stdout"
        }
      ]
    },
    {
      "cell_type": "code",
      "metadata": {
        "id": "rxf9p9-nbHJg",
        "colab_type": "code",
        "colab": {
          "base_uri": "https://localhost:8080/",
          "height": 34
        },
        "outputId": "05b90c1b-7d8d-4241-be26-fec74a3aad7f"
      },
      "source": [
        "stringX = 'abcdefghijklmnopq'\n",
        "if len(stringX) > 100:\n",
        "  print('stringX is shorter than 10')\n",
        "elif len(stringX) == 17:\n",
        "  print(stringX)\n",
        "else:\n",
        "  print('xxx')"
      ],
      "execution_count": null,
      "outputs": [
        {
          "output_type": "stream",
          "text": [
            "abcdefghijklmnopq\n"
          ],
          "name": "stdout"
        }
      ]
    },
    {
      "cell_type": "markdown",
      "metadata": {
        "id": "W_iBh9gJbrGb",
        "colab_type": "text"
      },
      "source": [
        "### Exercise 1\n",
        "\n",
        "หาค่ามากที่สุดใน list_EX = [-4, -1, -9, 8, 11]\n",
        "โดยไม่ใช้ function max()"
      ]
    },
    {
      "cell_type": "code",
      "metadata": {
        "id": "oApZvqXOfcLv",
        "colab_type": "code",
        "colab": {}
      },
      "source": [
        "list_EX = [-4, -1, -9, 8, 11]"
      ],
      "execution_count": null,
      "outputs": []
    },
    {
      "cell_type": "code",
      "metadata": {
        "id": "RYIP9xXrbp96",
        "colab_type": "code",
        "colab": {
          "base_uri": "https://localhost:8080/",
          "height": 85
        },
        "outputId": "11d88f45-cdf6-4c7c-ec34-3840dd229acc"
      },
      "source": [
        "list_EX = [-4, -1, -9, 8, 11]\n",
        "for i in range(len(list_EX)-1):\n",
        "  for j in range(len(list_EX)-i-1):\n",
        "      if (list_EX[j]>list_EX[j+1]):\n",
        "        list_EX[j],list_EX[j+1] = list_EX[j+1],list_EX[j]\n",
        "  print(list_EX)"
      ],
      "execution_count": null,
      "outputs": [
        {
          "output_type": "stream",
          "text": [
            "[-4, -9, -1, 8, 11]\n",
            "[-9, -4, -1, 8, 11]\n",
            "[-9, -4, -1, 8, 11]\n",
            "[-9, -4, -1, 8, 11]\n"
          ],
          "name": "stdout"
        }
      ]
    },
    {
      "cell_type": "markdown",
      "metadata": {
        "id": "N9YyZ3l3fixH",
        "colab_type": "text"
      },
      "source": [
        "^ เรียงจากน้อยไปมาก"
      ]
    },
    {
      "cell_type": "code",
      "metadata": {
        "id": "NybOCcBGfftv",
        "colab_type": "code",
        "colab": {
          "base_uri": "https://localhost:8080/",
          "height": 102
        },
        "outputId": "094edf02-deba-4c7c-e369-3f9e528c2033"
      },
      "source": [
        "list_EX = [-4, -1, -9, 8, 11]\n",
        "MAXIMUM = -1000000000\n",
        "for i in list_EX:\n",
        "  if i > MAXIMUM:\n",
        "    MAXIMUM = i\n",
        "    print (f'now MAXIMUM is {MAXIMUM}')\n",
        "print(f'Answer is {MAXIMUM} is the maximum number of {list_EX}')"
      ],
      "execution_count": null,
      "outputs": [
        {
          "output_type": "stream",
          "text": [
            "now MAXIMUM is -4\n",
            "now MAXIMUM is -1\n",
            "now MAXIMUM is 8\n",
            "now MAXIMUM is 11\n",
            "Answer is 11 is the maximum number of [-4, -1, -9, 8, 11]\n"
          ],
          "name": "stdout"
        }
      ]
    },
    {
      "cell_type": "markdown",
      "metadata": {
        "id": "FLxVeTvLgM07",
        "colab_type": "text"
      },
      "source": [
        "^ หาค่ามากสุด"
      ]
    },
    {
      "cell_type": "code",
      "metadata": {
        "id": "EXQI_mnAglDV",
        "colab_type": "code",
        "colab": {
          "base_uri": "https://localhost:8080/",
          "height": 119
        },
        "outputId": "fbe245d3-c9a4-4b7c-972c-56cfccb81822"
      },
      "source": [
        "list_EX = [-4, -1, -9, 8, 11]\n",
        "MAXIMUM = -1000000000\n",
        "for i in list_EX:\n",
        "  if i > MAXIMUM:\n",
        "    print (f'{i}>{MAXIMUM} UPDATE!,',end=' ')\n",
        "    MAXIMUM = i\n",
        "    print (f'now MAXIMUM is {MAXIMUM}')\n",
        "  else:\n",
        "    print (f'{i}<{MAXIMUM} NOT UPDATE!, now maximum is {MAXIMUM}')\n",
        "\n",
        "print(f'The answer is {MAXIMUM} is the maximum number of {list_EX}')"
      ],
      "execution_count": null,
      "outputs": [
        {
          "output_type": "stream",
          "text": [
            "-4>-1000000000 UPDATE!, now MAXIMUM is -4\n",
            "-1>-4 UPDATE!, now MAXIMUM is -1\n",
            "-9<-1 NOT UPDATE!, now maximum is -1\n",
            "8>-1 UPDATE!, now MAXIMUM is 8\n",
            "11>8 UPDATE!, now MAXIMUM is 11\n",
            "The answer is 11 is the maximum number of [-4, -1, -9, 8, 11]\n"
          ],
          "name": "stdout"
        }
      ]
    },
    {
      "cell_type": "code",
      "metadata": {
        "id": "yRnP8jMpj9wk",
        "colab_type": "code",
        "colab": {
          "base_uri": "https://localhost:8080/",
          "height": 136
        },
        "outputId": "3fd607c0-49e7-4dc9-ebd8-535a4ad7fca5"
      },
      "source": [
        "list_EX = [-4, -1, -9, 8, 11, 100]\n",
        "MAXIMUM = -1000000000\n",
        "for i in list_EX:\n",
        "  if i > MAXIMUM:\n",
        "    print (f'{i}>{MAXIMUM} UPDATE!,',end=' ')\n",
        "    MAXIMUM = i\n",
        "    print (f'now MAXIMUM is {MAXIMUM}')\n",
        "  else:\n",
        "    print (f'{i}<{MAXIMUM} NOT UPDATE!, now maximum is {MAXIMUM}')\n",
        "\n",
        "print(f'The answer is {MAXIMUM} is the maximum number of {list_EX}')"
      ],
      "execution_count": null,
      "outputs": [
        {
          "output_type": "stream",
          "text": [
            "-4>-1000000000 UPDATE!, now MAXIMUM is -4\n",
            "-1>-4 UPDATE!, now MAXIMUM is -1\n",
            "-9<-1 NOT UPDATE!, now maximum is -1\n",
            "8>-1 UPDATE!, now MAXIMUM is 8\n",
            "11>8 UPDATE!, now MAXIMUM is 11\n",
            "100>11 UPDATE!, now MAXIMUM is 100\n",
            "The answer is 100 is the maximum number of [-4, -1, -9, 8, 11, 100]\n"
          ],
          "name": "stdout"
        }
      ]
    },
    {
      "cell_type": "markdown",
      "metadata": {
        "id": "CATroYBslM2H",
        "colab_type": "text"
      },
      "source": [
        "### FUNCTION\n",
        "จะไม่พิมพ์ code ซ้ำ"
      ]
    },
    {
      "cell_type": "code",
      "metadata": {
        "id": "a17kMtX7kMYu",
        "colab_type": "code",
        "colab": {}
      },
      "source": [
        "def find_max(in_list):\n",
        "  MAXIMUM = -1000000000\n",
        "  for i in in_list:\n",
        "    if i > MAXIMUM:\n",
        "      print (f'{i}>{MAXIMUM} UPDATE!,',end=' ')\n",
        "      MAXIMUM = i\n",
        "      print (f'now MAXIMUM is {MAXIMUM}')\n",
        "    else:\n",
        "      print (f'{i}<{MAXIMUM} NOT UPDATE!, now maximum is {MAXIMUM}')\n",
        "\n",
        "  print(f'The answer is {MAXIMUM} is the maximum number of {in_list}')"
      ],
      "execution_count": null,
      "outputs": []
    },
    {
      "cell_type": "markdown",
      "metadata": {
        "id": "9JyZdjJ-lqge",
        "colab_type": "text"
      },
      "source": [
        "^ ctrl + ] คือเลื่อน code ทั้งหมดที่ hilight ไปด้านขวา"
      ]
    },
    {
      "cell_type": "markdown",
      "metadata": {
        "id": "WJXtPdxel-Au",
        "colab_type": "text"
      },
      "source": [
        "^ ctrl + [ คือเลื่อน code ทั้งหมดที่ hilight ไปด้านซ้าย"
      ]
    },
    {
      "cell_type": "code",
      "metadata": {
        "id": "SypnjC3SnPyt",
        "colab_type": "code",
        "colab": {
          "base_uri": "https://localhost:8080/",
          "height": 119
        },
        "outputId": "101877be-9f8a-43a6-86f7-ba78519228df"
      },
      "source": [
        "find_max([12,1666,912312,-2,77])"
      ],
      "execution_count": null,
      "outputs": [
        {
          "output_type": "stream",
          "text": [
            "12>-1000000000 UPDATE!, now MAXIMUM is 12\n",
            "1666>12 UPDATE!, now MAXIMUM is 1666\n",
            "912312>1666 UPDATE!, now MAXIMUM is 912312\n",
            "-2<912312 NOT UPDATE!, now maximum is 912312\n",
            "77<912312 NOT UPDATE!, now maximum is 912312\n",
            "The answer is 912312 is the maximum number of [12, 1666, 912312, -2, 77]\n"
          ],
          "name": "stdout"
        }
      ]
    },
    {
      "cell_type": "code",
      "metadata": {
        "id": "l5jfoi67n-Et",
        "colab_type": "code",
        "colab": {}
      },
      "source": [
        "def find_max(in_list):\n",
        "  MAXIMUM = -1000000000\n",
        "  for i in in_list:\n",
        "    if i > MAXIMUM:\n",
        "      print (f'{i}>{MAXIMUM} UPDATE!,',end=' ')\n",
        "      MAXIMUM = i\n",
        "      print (f'now MAXIMUM is {MAXIMUM}')\n",
        "    else:\n",
        "      print (f'{i}<{MAXIMUM} NOT UPDATE!, now maximum is {MAXIMUM}')\n",
        "\n",
        "  print(f'The answer is {MAXIMUM} is the maximum number of {in_list}')\n",
        "  return MAXIMUM "
      ],
      "execution_count": null,
      "outputs": []
    },
    {
      "cell_type": "markdown",
      "metadata": {
        "id": "3bnHRw5WoNcK",
        "colab_type": "text"
      },
      "source": [
        ""
      ]
    },
    {
      "cell_type": "code",
      "metadata": {
        "id": "W6myOUP5oLxN",
        "colab_type": "code",
        "colab": {
          "base_uri": "https://localhost:8080/",
          "height": 119
        },
        "outputId": "f946b2f4-602b-465f-99ad-ac00c57c1026"
      },
      "source": [
        "a = find_max([12,1666,912312,-2,77])"
      ],
      "execution_count": null,
      "outputs": [
        {
          "output_type": "stream",
          "text": [
            "12>-1000000000 UPDATE!, now MAXIMUM is 12\n",
            "1666>12 UPDATE!, now MAXIMUM is 1666\n",
            "912312>1666 UPDATE!, now MAXIMUM is 912312\n",
            "-2<912312 NOT UPDATE!, now maximum is 912312\n",
            "77<912312 NOT UPDATE!, now maximum is 912312\n",
            "The answer is 912312 is the maximum number of [12, 1666, 912312, -2, 77]\n"
          ],
          "name": "stdout"
        }
      ]
    },
    {
      "cell_type": "code",
      "metadata": {
        "id": "i3ByoA3MoYA1",
        "colab_type": "code",
        "colab": {
          "base_uri": "https://localhost:8080/",
          "height": 34
        },
        "outputId": "35621ed0-bbb8-42d4-bdc8-f4948a8ecf5b"
      },
      "source": [
        "a"
      ],
      "execution_count": null,
      "outputs": [
        {
          "output_type": "execute_result",
          "data": {
            "text/plain": [
              "912312"
            ]
          },
          "metadata": {
            "tags": []
          },
          "execution_count": 140
        }
      ]
    },
    {
      "cell_type": "markdown",
      "metadata": {
        "id": "Buxrpo10tN9m",
        "colab_type": "text"
      },
      "source": [
        "HW\n",
        "เขียน fenction เรียงลำดับค่าใน list_EX = [-4,-1,-9,8,11] จากค่ามากที่สุดไปน้อยที่สุด โดยไม่ใช้ fundtion ของ python(sort())"
      ]
    },
    {
      "cell_type": "code",
      "metadata": {
        "id": "PJFQKoNgeCHk",
        "colab_type": "code",
        "colab": {
          "base_uri": "https://localhost:8080/",
          "height": 34
        },
        "outputId": "920907a8-bceb-4882-bbb2-f293af63b73d"
      },
      "source": [
        "list_EX = [-4, -1, -9, 8, 11]\n",
        "sizeList_EX = len(list_EX) #5\n",
        "sizeSort = sizeList_EX - 1 #4\n",
        "for index in range(sizeList_EX) :\n",
        "     for j in range(sizeSort) :\n",
        "          if list_EX[j] < list_EX[j+1] : \n",
        "             tmp = list_EX[j]\n",
        "             list_EX[j] = list_EX[j+1]\n",
        "             list_EX[j+1] = tmp\n",
        "print(list_EX)"
      ],
      "execution_count": 1,
      "outputs": [
        {
          "output_type": "stream",
          "text": [
            "[11, 8, -1, -4, -9]\n"
          ],
          "name": "stdout"
        }
      ]
    }
  ]
}