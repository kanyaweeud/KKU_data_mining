{
  "nbformat": 4,
  "nbformat_minor": 0,
  "metadata": {
    "colab": {
      "name": "Rain Accumulation forecasting by using Decision Tree Classifier ",
      "provenance": [],
      "collapsed_sections": [],
      "authorship_tag": "ABX9TyM9pGKhtg41pBY9EOs9+8di",
      "include_colab_link": true
    },
    "kernelspec": {
      "name": "python3",
      "display_name": "Python 3"
    }
  },
  "cells": [
    {
      "cell_type": "markdown",
      "metadata": {
        "id": "view-in-github",
        "colab_type": "text"
      },
      "source": [
        "<a href=\"https://colab.research.google.com/github/kanyaweeud/KKU_data_mining/blob/master/Rain_Accumulation_forecasting_by_using_Decision_Tree_Classifier.ipynb\" target=\"_parent\"><img src=\"https://colab.research.google.com/assets/colab-badge.svg\" alt=\"Open In Colab\"/></a>"
      ]
    },
    {
      "cell_type": "markdown",
      "metadata": {
        "id": "Ms4oGbMCcDBA"
      },
      "source": [
        "---\n",
        "#RAIN ACCUMULATION FORECASTING BY USING DECISION TREE CLASSIFIER\n",
        "---\n",
        "\n",
        "\n",
        "\n"
      ]
    },
    {
      "cell_type": "markdown",
      "metadata": {
        "id": "p-lZpZki8ISm"
      },
      "source": [
        "**By** กัญญาวีร์ อุดม 613020610-8 และสุภัทธา ทิ้งไทยสงค์ 613021026-2"
      ]
    },
    {
      "cell_type": "markdown",
      "metadata": {
        "id": "NJl50kAFwm7D"
      },
      "source": [
        "---\n",
        "#Visualization \n",
        "---"
      ]
    },
    {
      "cell_type": "markdown",
      "metadata": {
        "id": "55iAVu4KdFx9"
      },
      "source": [
        "---\n",
        ">Import the nescesary libraries for rain accumulation forecasting.\n",
        "*   sklearn.metrics.accuracy_score \n",
        "*   sklearn.model_selection.train_test_split\n",
        "*   sklearn.tree.DecisionTreeClassifier\n",
        "\n",
        "---"
      ]
    },
    {
      "cell_type": "code",
      "metadata": {
        "id": "7UevCYGbVg5x"
      },
      "source": [
        "#Import the pandas library for visualizing data | การ import ให้สามารถเรียกใช้ไลบรารี่ pandas ในการ visualizing ชุดข้อมูล\n",
        "import pandas as pd \n",
        "\n",
        "#Import the accuracy_score library from scikit-learn module | การ import ให้สามารถเรียกใช้ไลบรารี่ accuracy_score ในการหาค่าความแม่นยำในการพยากรณ์ด้วยตัวแบบ decision tree \n",
        "from sklearn.metrics import accuracy_score \n",
        "\n",
        "#Import the train_test_split library from scikit-learn module | การ import ให้สามารถเรียกใช้ไลบรารี่ train_test_split ในการแบ่งชุดข้อมูลออกเป็น 2 ส่วน \n",
        "from sklearn.model_selection import train_test_split \n",
        "\n",
        "#Import the DecisionTreeClasifier from scikit-learn module | การ import ให้สามารถเรียกใช้ไลบรารี่ DecisionTreeClassifier ในการใช้งานตัวแบบ decision tree \n",
        "from sklearn.tree import DecisionTreeClassifier\n",
        "\n",
        "#Import the matplotlib.pyplot library | การ import ให้สามารถเรียกใช้ไลบรารี่ matplotlib.pyplot ในการพลอตกราฟ \n",
        "import matplotlib.pyplot as plt\n",
        "\n",
        "#Import the seaborn library | การ import ให้สามารถเรียกใช้ไลบรารี่ seaborn ในการพลอตกราฟที่เป็น dataframe \n",
        "import seaborn as sns"
      ],
      "execution_count": 140,
      "outputs": []
    },
    {
      "cell_type": "markdown",
      "metadata": {
        "id": "1zT00ZSvisw2"
      },
      "source": [
        "---\n",
        ">Import the drive library for integration Google Colab with Google Drive to access any files on Google Drive.\n",
        "*    google.colab.drive\n",
        "\n",
        "---"
      ]
    },
    {
      "cell_type": "code",
      "metadata": {
        "colab": {
          "base_uri": "https://localhost:8080/"
        },
        "id": "PTQ-C0r_W6bK",
        "outputId": "d2af187c-82f6-4884-b6a3-85b15df83ea1"
      },
      "source": [
        "#Import the drive library from Google Colab module | การ import ให้สามารถเรียกใช้ไลบรารี่ drive ในการเข้าถึงไฟล์บน Google Drive\n",
        "from google.colab import drive  \n",
        "\n",
        "#Mount the drive on Google Colab to access any files from Google Drive | การ mount ไดร์ฟบน Google Colab ในการเข้าถึงไฟล์บน Google Drive \n",
        "drive.mount('/content/drive')\n",
        "\n",
        "#Define the path to access .csv files on Google Drive | กำหนดตำแแหน่งของ path ในการเข้าถึงไฟล์นามสกุล .csv บน Google Drive\n",
        "path = '/content/drive/My Drive/DWDM_Material/daily_weather.csv' "
      ],
      "execution_count": 141,
      "outputs": [
        {
          "output_type": "stream",
          "text": [
            "Drive already mounted at /content/drive; to attempt to forcibly remount, call drive.mount(\"/content/drive\", force_remount=True).\n"
          ],
          "name": "stdout"
        }
      ]
    },
    {
      "cell_type": "markdown",
      "metadata": {
        "id": "1WfM7HIKi64E"
      },
      "source": [
        "---\n",
        ">Read .csv files on the path. \n",
        "---"
      ]
    },
    {
      "cell_type": "code",
      "metadata": {
        "colab": {
          "base_uri": "https://localhost:8080/",
          "height": 195
        },
        "id": "B_BcA6vSVpXr",
        "outputId": "eeb38428-19b7-4734-c6e3-7b0661eb94ef"
      },
      "source": [
        "#Read .csv files on the path with pandas | การอ่านไฟล์นามสกุล .csv ตามตำแหน่งของ path ที่กำหนด ด้วยไลบรารี่ pandas \n",
        "data = pd.read_csv(\"/content/drive/My Drive/DWDM_Material/TMD.csv\")\n",
        "\n",
        "#Display the dataframe of data variable while using head() method to show only the first 5 indexes | การแสดง dataframe ของตัวแปร data เฉพาะ index 5 อันดับแรกด้วยเมธอด head()\n",
        "data.head()"
      ],
      "execution_count": 142,
      "outputs": [
        {
          "output_type": "execute_result",
          "data": {
            "text/html": [
              "<div>\n",
              "<style scoped>\n",
              "    .dataframe tbody tr th:only-of-type {\n",
              "        vertical-align: middle;\n",
              "    }\n",
              "\n",
              "    .dataframe tbody tr th {\n",
              "        vertical-align: top;\n",
              "    }\n",
              "\n",
              "    .dataframe thead th {\n",
              "        text-align: right;\n",
              "    }\n",
              "</style>\n",
              "<table border=\"1\" class=\"dataframe\">\n",
              "  <thead>\n",
              "    <tr style=\"text-align: right;\">\n",
              "      <th></th>\n",
              "      <th>timestamp</th>\n",
              "      <th>max_air_temp</th>\n",
              "      <th>min_air_temp</th>\n",
              "      <th>dew_point_temp</th>\n",
              "      <th>max_wind_speed</th>\n",
              "      <th>relative_humidity</th>\n",
              "      <th>rain_accumulations</th>\n",
              "    </tr>\n",
              "  </thead>\n",
              "  <tbody>\n",
              "    <tr>\n",
              "      <th>0</th>\n",
              "      <td>1/1/2016</td>\n",
              "      <td>30.0</td>\n",
              "      <td>17.0</td>\n",
              "      <td>16.3</td>\n",
              "      <td>14</td>\n",
              "      <td>67</td>\n",
              "      <td>0.0</td>\n",
              "    </tr>\n",
              "    <tr>\n",
              "      <th>1</th>\n",
              "      <td>1/2/2016</td>\n",
              "      <td>31.2</td>\n",
              "      <td>18.1</td>\n",
              "      <td>17.1</td>\n",
              "      <td>15</td>\n",
              "      <td>67</td>\n",
              "      <td>0.0</td>\n",
              "    </tr>\n",
              "    <tr>\n",
              "      <th>2</th>\n",
              "      <td>1/3/2016</td>\n",
              "      <td>31.5</td>\n",
              "      <td>18.1</td>\n",
              "      <td>16.7</td>\n",
              "      <td>10</td>\n",
              "      <td>64</td>\n",
              "      <td>0.0</td>\n",
              "    </tr>\n",
              "    <tr>\n",
              "      <th>3</th>\n",
              "      <td>1/4/2016</td>\n",
              "      <td>33.7</td>\n",
              "      <td>17.4</td>\n",
              "      <td>17.2</td>\n",
              "      <td>7</td>\n",
              "      <td>64</td>\n",
              "      <td>0.0</td>\n",
              "    </tr>\n",
              "    <tr>\n",
              "      <th>4</th>\n",
              "      <td>1/5/2016</td>\n",
              "      <td>34.3</td>\n",
              "      <td>19.5</td>\n",
              "      <td>15.1</td>\n",
              "      <td>17</td>\n",
              "      <td>54</td>\n",
              "      <td>0.0</td>\n",
              "    </tr>\n",
              "  </tbody>\n",
              "</table>\n",
              "</div>"
            ],
            "text/plain": [
              "  timestamp  max_air_temp  ...  relative_humidity  rain_accumulations\n",
              "0  1/1/2016          30.0  ...                 67                 0.0\n",
              "1  1/2/2016          31.2  ...                 67                 0.0\n",
              "2  1/3/2016          31.5  ...                 64                 0.0\n",
              "3  1/4/2016          33.7  ...                 64                 0.0\n",
              "4  1/5/2016          34.3  ...                 54                 0.0\n",
              "\n",
              "[5 rows x 7 columns]"
            ]
          },
          "metadata": {
            "tags": []
          },
          "execution_count": 142
        }
      ]
    },
    {
      "cell_type": "markdown",
      "metadata": {
        "id": "XfYwhgH-j4OY"
      },
      "source": [
        "---\n",
        ">Display all of the column name on data variable.\n",
        "---"
      ]
    },
    {
      "cell_type": "code",
      "metadata": {
        "colab": {
          "base_uri": "https://localhost:8080/"
        },
        "id": "M1TCE5mnVpgd",
        "outputId": "5b58fe4e-fcf4-4f85-c3b8-fc071d8eaaff"
      },
      "source": [
        " #Display all of the column name in data variable  | การแสดงชื่อคอลัมน์ทั้งหมดในตัวแปร data \n",
        " data.columns"
      ],
      "execution_count": 143,
      "outputs": [
        {
          "output_type": "execute_result",
          "data": {
            "text/plain": [
              "Index(['timestamp', 'max_air_temp', 'min_air_temp', 'dew_point_temp',\n",
              "       'max_wind_speed', 'relative_humidity', 'rain_accumulations'],\n",
              "      dtype='object')"
            ]
          },
          "metadata": {
            "tags": []
          },
          "execution_count": 143
        }
      ]
    },
    {
      "cell_type": "markdown",
      "metadata": {
        "id": "RaXhOoBcwZFn"
      },
      "source": [
        "---\n",
        "#Cleaning a dataset\n",
        "---"
      ]
    },
    {
      "cell_type": "markdown",
      "metadata": {
        "id": "paaFNIj9kVk2"
      },
      "source": [
        "---\n",
        ">Check null values every single row then get rid of those values to make a clean dataset.\n",
        "---"
      ]
    },
    {
      "cell_type": "code",
      "metadata": {
        "colab": {
          "base_uri": "https://localhost:8080/"
        },
        "id": "Z0d45yV5liFV",
        "outputId": "b74977a9-5637-42ef-eabc-ce96a3c53fbc"
      },
      "source": [
        "#Check null values every single row of data variable then returns the two boolean values | การตรวจสอบค่า null ในทุกแถวของตัวแปร่ data จากนั้น return ค่าประเภท boolean ได้แก่ \"True\" หรือ \"False\"\n",
        "data.isnull().any().any()"
      ],
      "execution_count": 144,
      "outputs": [
        {
          "output_type": "execute_result",
          "data": {
            "text/plain": [
              "False"
            ]
          },
          "metadata": {
            "tags": []
          },
          "execution_count": 144
        }
      ]
    },
    {
      "cell_type": "markdown",
      "metadata": {
        "id": "1BMxhUSJluLH"
      },
      "source": [
        "---\n",
        ">Summarize null values each column to look at the columns which have nulll values.\n",
        "---"
      ]
    },
    {
      "cell_type": "code",
      "metadata": {
        "colab": {
          "base_uri": "https://localhost:8080/"
        },
        "id": "Tt_1-RneVplu",
        "outputId": "1c079c2b-a98e-420e-a926-b5a213761a8c"
      },
      "source": [
        "#Summarize null values each column while using sum() method | การหาผลรวมของค่า null ในแต่ละคอลัมน์ด้วยเมธอด sum()\n",
        "data.isnull().sum() "
      ],
      "execution_count": 145,
      "outputs": [
        {
          "output_type": "execute_result",
          "data": {
            "text/plain": [
              "timestamp             0\n",
              "max_air_temp          0\n",
              "min_air_temp          0\n",
              "dew_point_temp        0\n",
              "max_wind_speed        0\n",
              "relative_humidity     0\n",
              "rain_accumulations    0\n",
              "dtype: int64"
            ]
          },
          "metadata": {
            "tags": []
          },
          "execution_count": 145
        }
      ]
    },
    {
      "cell_type": "markdown",
      "metadata": {
        "id": "WGS1_WfMlzOd"
      },
      "source": [
        "---\n",
        ">Display the value of every single row which have null values.\n",
        "---"
      ]
    },
    {
      "cell_type": "code",
      "metadata": {
        "colab": {
          "base_uri": "https://localhost:8080/",
          "height": 47
        },
        "id": "kFgMvtWWVpoO",
        "outputId": "f8c67009-f278-4a72-da7a-132d7151b3af"
      },
      "source": [
        "#We have to define the axis parameter of any() method to 1 for displaying the value of every single row which have null values \n",
        "#การแสดงค่าทุกแถวใน dataframe ที่เป็นค่า null ด้วยการกำหนด \"axis=1\" ใน any()\n",
        "data[data.isnull().any(axis = 1)]"
      ],
      "execution_count": 146,
      "outputs": [
        {
          "output_type": "execute_result",
          "data": {
            "text/html": [
              "<div>\n",
              "<style scoped>\n",
              "    .dataframe tbody tr th:only-of-type {\n",
              "        vertical-align: middle;\n",
              "    }\n",
              "\n",
              "    .dataframe tbody tr th {\n",
              "        vertical-align: top;\n",
              "    }\n",
              "\n",
              "    .dataframe thead th {\n",
              "        text-align: right;\n",
              "    }\n",
              "</style>\n",
              "<table border=\"1\" class=\"dataframe\">\n",
              "  <thead>\n",
              "    <tr style=\"text-align: right;\">\n",
              "      <th></th>\n",
              "      <th>timestamp</th>\n",
              "      <th>max_air_temp</th>\n",
              "      <th>min_air_temp</th>\n",
              "      <th>dew_point_temp</th>\n",
              "      <th>max_wind_speed</th>\n",
              "      <th>relative_humidity</th>\n",
              "      <th>rain_accumulations</th>\n",
              "    </tr>\n",
              "  </thead>\n",
              "  <tbody>\n",
              "  </tbody>\n",
              "</table>\n",
              "</div>"
            ],
            "text/plain": [
              "Empty DataFrame\n",
              "Columns: [timestamp, max_air_temp, min_air_temp, dew_point_temp, max_wind_speed, relative_humidity, rain_accumulations]\n",
              "Index: []"
            ]
          },
          "metadata": {
            "tags": []
          },
          "execution_count": 146
        }
      ]
    },
    {
      "cell_type": "markdown",
      "metadata": {
        "id": "Xx0evpQeq23z"
      },
      "source": [
        "---\n",
        "#Convert a column to binary values for classification problem\n",
        "---"
      ]
    },
    {
      "cell_type": "code",
      "metadata": {
        "id": "dd25nkFqoQkl",
        "colab": {
          "base_uri": "https://localhost:8080/"
        },
        "outputId": "9e457e6e-5ec9-4f87-9535-84c1ba8c3f15"
      },
      "source": [
        "#Duplicate the dataframe to avoid confusion | การทำสำเนาของ dataframe เพื่อหลีกเลี่ยงการทับซ้อนกันของการเรียกใช้ dataframe \n",
        "clean_data = data.copy() \n",
        "\n",
        "#Convert all values on the specific column to binary values with threshold | การแปลงค่าภายในคอลัมน์ที่กำหนดของ dataframe ให้เป็นค่าไบนารี่ \"0\" หรือ \"1\" ด้วยการกำหนดค่า theshold เป็น 0.1\n",
        "#ถ้าหากค่าภายในคอลัมน์มากกว่าค่า theshold (0.1) จะแทนค่าด้วย \"1\" หากต่ำกว่า theshold จะแทนด้วย \"0\"\n",
        "#ค่าไบนารี่ \"1\" แทนการเกิดฝนของวันนั้น ส่วน \"0\" แทนไม่มีการเกิดฝนในว้นนั้น\n",
        "clean_data['high_rain_accumulations_label'] = (clean_data['rain_accumulations'] > 0.1) * 1 \n",
        "\n",
        "#Display what values we have on the specific column | การแสดงค่าภายในคอลัมน์ที่กำหนดของ dataframe\n",
        "print(clean_data['high_rain_accumulations_label'])"
      ],
      "execution_count": 147,
      "outputs": [
        {
          "output_type": "stream",
          "text": [
            "0       0\n",
            "1       0\n",
            "2       0\n",
            "3       0\n",
            "4       0\n",
            "       ..\n",
            "1779    0\n",
            "1780    0\n",
            "1781    0\n",
            "1782    0\n",
            "1783    0\n",
            "Name: high_rain_accumulations_label, Length: 1784, dtype: int64\n"
          ],
          "name": "stdout"
        }
      ]
    },
    {
      "cell_type": "markdown",
      "metadata": {
        "id": "U-MkoGEuro9i"
      },
      "source": [
        "---\n",
        ">Set a converted column as y variable.\n",
        "---"
      ]
    },
    {
      "cell_type": "code",
      "metadata": {
        "id": "dfXhJ-bMoSaz",
        "colab": {
          "base_uri": "https://localhost:8080/",
          "height": 402
        },
        "outputId": "17399edf-d909-4f05-c458-d1f5cc57eb4b"
      },
      "source": [
        "#Duplicate the dataframe to avoid confusion | การทำสำเนาของ dataframe เพื่อหลีกเลี่ยงการทับซ้อนกันของการเรียกใช้ dataframe \n",
        "#Set the duplicated dataframe as y (0 or 1) | การ set ให้ dataframe ที่ทำสำเนาแล้วแทนด้วยตัวแปร y\n",
        "y = clean_data[['high_rain_accumulations_label']].copy()\n",
        "\n",
        "#Display the y's dataframe | การแสดงค่าภายใน dataframe ของตัวแปร y\n",
        "y"
      ],
      "execution_count": 148,
      "outputs": [
        {
          "output_type": "execute_result",
          "data": {
            "text/html": [
              "<div>\n",
              "<style scoped>\n",
              "    .dataframe tbody tr th:only-of-type {\n",
              "        vertical-align: middle;\n",
              "    }\n",
              "\n",
              "    .dataframe tbody tr th {\n",
              "        vertical-align: top;\n",
              "    }\n",
              "\n",
              "    .dataframe thead th {\n",
              "        text-align: right;\n",
              "    }\n",
              "</style>\n",
              "<table border=\"1\" class=\"dataframe\">\n",
              "  <thead>\n",
              "    <tr style=\"text-align: right;\">\n",
              "      <th></th>\n",
              "      <th>high_rain_accumulations_label</th>\n",
              "    </tr>\n",
              "  </thead>\n",
              "  <tbody>\n",
              "    <tr>\n",
              "      <th>0</th>\n",
              "      <td>0</td>\n",
              "    </tr>\n",
              "    <tr>\n",
              "      <th>1</th>\n",
              "      <td>0</td>\n",
              "    </tr>\n",
              "    <tr>\n",
              "      <th>2</th>\n",
              "      <td>0</td>\n",
              "    </tr>\n",
              "    <tr>\n",
              "      <th>3</th>\n",
              "      <td>0</td>\n",
              "    </tr>\n",
              "    <tr>\n",
              "      <th>4</th>\n",
              "      <td>0</td>\n",
              "    </tr>\n",
              "    <tr>\n",
              "      <th>...</th>\n",
              "      <td>...</td>\n",
              "    </tr>\n",
              "    <tr>\n",
              "      <th>1779</th>\n",
              "      <td>0</td>\n",
              "    </tr>\n",
              "    <tr>\n",
              "      <th>1780</th>\n",
              "      <td>0</td>\n",
              "    </tr>\n",
              "    <tr>\n",
              "      <th>1781</th>\n",
              "      <td>0</td>\n",
              "    </tr>\n",
              "    <tr>\n",
              "      <th>1782</th>\n",
              "      <td>0</td>\n",
              "    </tr>\n",
              "    <tr>\n",
              "      <th>1783</th>\n",
              "      <td>0</td>\n",
              "    </tr>\n",
              "  </tbody>\n",
              "</table>\n",
              "<p>1784 rows × 1 columns</p>\n",
              "</div>"
            ],
            "text/plain": [
              "      high_rain_accumulations_label\n",
              "0                                 0\n",
              "1                                 0\n",
              "2                                 0\n",
              "3                                 0\n",
              "4                                 0\n",
              "...                             ...\n",
              "1779                              0\n",
              "1780                              0\n",
              "1781                              0\n",
              "1782                              0\n",
              "1783                              0\n",
              "\n",
              "[1784 rows x 1 columns]"
            ]
          },
          "metadata": {
            "tags": []
          },
          "execution_count": 148
        }
      ]
    },
    {
      "cell_type": "markdown",
      "metadata": {
        "id": "ABBGFhERO6kt"
      },
      "source": [
        "---\n",
        ">Look at the column for some values.\n",
        "---"
      ]
    },
    {
      "cell_type": "code",
      "metadata": {
        "id": "9vhlhu70oWvg",
        "colab": {
          "base_uri": "https://localhost:8080/"
        },
        "outputId": "edeed987-69d8-4ee2-b14f-43135825184c"
      },
      "source": [
        "#Display the column values only the first 5 indexes | การแสดงค่าของคอลัมน์ใดๆเฉพาะ index 5 อันดับแรก\n",
        "clean_data['rain_accumulations'].head()"
      ],
      "execution_count": 149,
      "outputs": [
        {
          "output_type": "execute_result",
          "data": {
            "text/plain": [
              "0    0.0\n",
              "1    0.0\n",
              "2    0.0\n",
              "3    0.0\n",
              "4    0.0\n",
              "Name: rain_accumulations, dtype: float64"
            ]
          },
          "metadata": {
            "tags": []
          },
          "execution_count": 149
        }
      ]
    },
    {
      "cell_type": "code",
      "metadata": {
        "id": "rgt1vA0FoZ0a",
        "colab": {
          "base_uri": "https://localhost:8080/",
          "height": 195
        },
        "outputId": "1e0d2902-0a02-4cbb-eec6-1a054dcc7386"
      },
      "source": [
        "#Check a few values on the y's dataframe | การตรวจสอบค่าเฉพาะ index 5 อันดับแรก \n",
        "y.head()"
      ],
      "execution_count": 150,
      "outputs": [
        {
          "output_type": "execute_result",
          "data": {
            "text/html": [
              "<div>\n",
              "<style scoped>\n",
              "    .dataframe tbody tr th:only-of-type {\n",
              "        vertical-align: middle;\n",
              "    }\n",
              "\n",
              "    .dataframe tbody tr th {\n",
              "        vertical-align: top;\n",
              "    }\n",
              "\n",
              "    .dataframe thead th {\n",
              "        text-align: right;\n",
              "    }\n",
              "</style>\n",
              "<table border=\"1\" class=\"dataframe\">\n",
              "  <thead>\n",
              "    <tr style=\"text-align: right;\">\n",
              "      <th></th>\n",
              "      <th>high_rain_accumulations_label</th>\n",
              "    </tr>\n",
              "  </thead>\n",
              "  <tbody>\n",
              "    <tr>\n",
              "      <th>0</th>\n",
              "      <td>0</td>\n",
              "    </tr>\n",
              "    <tr>\n",
              "      <th>1</th>\n",
              "      <td>0</td>\n",
              "    </tr>\n",
              "    <tr>\n",
              "      <th>2</th>\n",
              "      <td>0</td>\n",
              "    </tr>\n",
              "    <tr>\n",
              "      <th>3</th>\n",
              "      <td>0</td>\n",
              "    </tr>\n",
              "    <tr>\n",
              "      <th>4</th>\n",
              "      <td>0</td>\n",
              "    </tr>\n",
              "  </tbody>\n",
              "</table>\n",
              "</div>"
            ],
            "text/plain": [
              "   high_rain_accumulations_label\n",
              "0                              0\n",
              "1                              0\n",
              "2                              0\n",
              "3                              0\n",
              "4                              0"
            ]
          },
          "metadata": {
            "tags": []
          },
          "execution_count": 150
        }
      ]
    },
    {
      "cell_type": "code",
      "metadata": {
        "id": "XVyE1RJmocdp",
        "colab": {
          "base_uri": "https://localhost:8080/"
        },
        "outputId": "d5a60cab-771b-4b99-cf0b-3080533b6557"
      },
      "source": [
        "#Define the features list that contains column name | การกำหนดค่าให้ตัวแปร features ที่เป็น list โดยภายในจะเก็บค่า \n",
        "features = ['max_air_temp','min_air_temp','dew_point_temp','max_wind_speed','relative_humidity']\n",
        "print(features)"
      ],
      "execution_count": 151,
      "outputs": [
        {
          "output_type": "stream",
          "text": [
            "['max_air_temp', 'min_air_temp', 'dew_point_temp', 'max_wind_speed', 'relative_humidity']\n"
          ],
          "name": "stdout"
        }
      ]
    },
    {
      "cell_type": "code",
      "metadata": {
        "id": "inff7Ce1ohwn",
        "colab": {
          "base_uri": "https://localhost:8080/",
          "height": 402
        },
        "outputId": "d4e62338-8152-46a3-b993-821e55d62eb2"
      },
      "source": [
        "#Duplicate the dataframe to avoid confusion | การทำสำเนาของ dataframe เพื่อหลีกเลี่ยงการทับซ้อนกันของการเรียกใช้ dataframe \n",
        "#Set the duplicated dataframe as X | การ set ให้ dataframe ที่ทำสำเนาแล้วแทนด้วยตัวแปร X\n",
        "X = clean_data[features].copy()\n",
        "\n",
        "#Display the X's dataframe | การแสดงค่าภายใน dataframe ของตัวแปร X\n",
        "X"
      ],
      "execution_count": 152,
      "outputs": [
        {
          "output_type": "execute_result",
          "data": {
            "text/html": [
              "<div>\n",
              "<style scoped>\n",
              "    .dataframe tbody tr th:only-of-type {\n",
              "        vertical-align: middle;\n",
              "    }\n",
              "\n",
              "    .dataframe tbody tr th {\n",
              "        vertical-align: top;\n",
              "    }\n",
              "\n",
              "    .dataframe thead th {\n",
              "        text-align: right;\n",
              "    }\n",
              "</style>\n",
              "<table border=\"1\" class=\"dataframe\">\n",
              "  <thead>\n",
              "    <tr style=\"text-align: right;\">\n",
              "      <th></th>\n",
              "      <th>max_air_temp</th>\n",
              "      <th>min_air_temp</th>\n",
              "      <th>dew_point_temp</th>\n",
              "      <th>max_wind_speed</th>\n",
              "      <th>relative_humidity</th>\n",
              "    </tr>\n",
              "  </thead>\n",
              "  <tbody>\n",
              "    <tr>\n",
              "      <th>0</th>\n",
              "      <td>30.0</td>\n",
              "      <td>17.0</td>\n",
              "      <td>16.3</td>\n",
              "      <td>14</td>\n",
              "      <td>67</td>\n",
              "    </tr>\n",
              "    <tr>\n",
              "      <th>1</th>\n",
              "      <td>31.2</td>\n",
              "      <td>18.1</td>\n",
              "      <td>17.1</td>\n",
              "      <td>15</td>\n",
              "      <td>67</td>\n",
              "    </tr>\n",
              "    <tr>\n",
              "      <th>2</th>\n",
              "      <td>31.5</td>\n",
              "      <td>18.1</td>\n",
              "      <td>16.7</td>\n",
              "      <td>10</td>\n",
              "      <td>64</td>\n",
              "    </tr>\n",
              "    <tr>\n",
              "      <th>3</th>\n",
              "      <td>33.7</td>\n",
              "      <td>17.4</td>\n",
              "      <td>17.2</td>\n",
              "      <td>7</td>\n",
              "      <td>64</td>\n",
              "    </tr>\n",
              "    <tr>\n",
              "      <th>4</th>\n",
              "      <td>34.3</td>\n",
              "      <td>19.5</td>\n",
              "      <td>15.1</td>\n",
              "      <td>17</td>\n",
              "      <td>54</td>\n",
              "    </tr>\n",
              "    <tr>\n",
              "      <th>...</th>\n",
              "      <td>...</td>\n",
              "      <td>...</td>\n",
              "      <td>...</td>\n",
              "      <td>...</td>\n",
              "      <td>...</td>\n",
              "    </tr>\n",
              "    <tr>\n",
              "      <th>1779</th>\n",
              "      <td>30.0</td>\n",
              "      <td>17.5</td>\n",
              "      <td>13.1</td>\n",
              "      <td>9</td>\n",
              "      <td>56</td>\n",
              "    </tr>\n",
              "    <tr>\n",
              "      <th>1780</th>\n",
              "      <td>30.6</td>\n",
              "      <td>18.8</td>\n",
              "      <td>15.5</td>\n",
              "      <td>10</td>\n",
              "      <td>60</td>\n",
              "    </tr>\n",
              "    <tr>\n",
              "      <th>1781</th>\n",
              "      <td>31.0</td>\n",
              "      <td>21.4</td>\n",
              "      <td>19.4</td>\n",
              "      <td>14</td>\n",
              "      <td>70</td>\n",
              "    </tr>\n",
              "    <tr>\n",
              "      <th>1782</th>\n",
              "      <td>32.5</td>\n",
              "      <td>21.8</td>\n",
              "      <td>21.1</td>\n",
              "      <td>6</td>\n",
              "      <td>73</td>\n",
              "    </tr>\n",
              "    <tr>\n",
              "      <th>1783</th>\n",
              "      <td>0.0</td>\n",
              "      <td>0.0</td>\n",
              "      <td>21.2</td>\n",
              "      <td>0</td>\n",
              "      <td>85</td>\n",
              "    </tr>\n",
              "  </tbody>\n",
              "</table>\n",
              "<p>1784 rows × 5 columns</p>\n",
              "</div>"
            ],
            "text/plain": [
              "      max_air_temp  min_air_temp  ...  max_wind_speed  relative_humidity\n",
              "0             30.0          17.0  ...              14                 67\n",
              "1             31.2          18.1  ...              15                 67\n",
              "2             31.5          18.1  ...              10                 64\n",
              "3             33.7          17.4  ...               7                 64\n",
              "4             34.3          19.5  ...              17                 54\n",
              "...            ...           ...  ...             ...                ...\n",
              "1779          30.0          17.5  ...               9                 56\n",
              "1780          30.6          18.8  ...              10                 60\n",
              "1781          31.0          21.4  ...              14                 70\n",
              "1782          32.5          21.8  ...               6                 73\n",
              "1783           0.0           0.0  ...               0                 85\n",
              "\n",
              "[1784 rows x 5 columns]"
            ]
          },
          "metadata": {
            "tags": []
          },
          "execution_count": 152
        }
      ]
    },
    {
      "cell_type": "markdown",
      "metadata": {
        "id": "xN0Q1ErsM2EV"
      },
      "source": [
        "---\n",
        "#Split the dataset for training and testing the model\n",
        "---"
      ]
    },
    {
      "cell_type": "markdown",
      "metadata": {
        "id": "RLc6UhJuNepo"
      },
      "source": [
        "---\n",
        ">Split the dataset into 4 separated parts.\n",
        "---"
      ]
    },
    {
      "cell_type": "code",
      "metadata": {
        "id": "dXKLYtWQok2e"
      },
      "source": [
        "#Split the dataset with specific params |  การแยกชุดข้อมูลออกเป็นส่วนๆเพื่อใช้สำหรับ training และ testing ตัวแบบซึ่งจะประกอบไปด้วย X_train X_test y_train และ y_test\n",
        "#We define the test_size to 0.33 that would be 67:33 training and testing ratio | การกำหนดอัตราส่วนในการแบ่งชุดข้อมูลออกเป็นส่วนในที่นี้จะใช้อัตราส่วน 67:33\n",
        "X_train, X_test, y_train, y_test = train_test_split(X, y, test_size = 0.33, random_state = 342)"
      ],
      "execution_count": 153,
      "outputs": []
    },
    {
      "cell_type": "code",
      "metadata": {
        "colab": {
          "base_uri": "https://localhost:8080/",
          "height": 195
        },
        "id": "su2S3mqjZG92",
        "outputId": "ea627fad-0c07-4198-feb8-ca7aef5e2763"
      },
      "source": [
        "#Check what inside the X_train is | การตรวจสอบค่าภายใน dataframe ของตัวแปร X_train ที่ใช้สำหรับ training ตัวแบบ\n",
        "X_train.head()"
      ],
      "execution_count": 154,
      "outputs": [
        {
          "output_type": "execute_result",
          "data": {
            "text/html": [
              "<div>\n",
              "<style scoped>\n",
              "    .dataframe tbody tr th:only-of-type {\n",
              "        vertical-align: middle;\n",
              "    }\n",
              "\n",
              "    .dataframe tbody tr th {\n",
              "        vertical-align: top;\n",
              "    }\n",
              "\n",
              "    .dataframe thead th {\n",
              "        text-align: right;\n",
              "    }\n",
              "</style>\n",
              "<table border=\"1\" class=\"dataframe\">\n",
              "  <thead>\n",
              "    <tr style=\"text-align: right;\">\n",
              "      <th></th>\n",
              "      <th>max_air_temp</th>\n",
              "      <th>min_air_temp</th>\n",
              "      <th>dew_point_temp</th>\n",
              "      <th>max_wind_speed</th>\n",
              "      <th>relative_humidity</th>\n",
              "    </tr>\n",
              "  </thead>\n",
              "  <tbody>\n",
              "    <tr>\n",
              "      <th>1101</th>\n",
              "      <td>32.4</td>\n",
              "      <td>20.6</td>\n",
              "      <td>19.3</td>\n",
              "      <td>10</td>\n",
              "      <td>67</td>\n",
              "    </tr>\n",
              "    <tr>\n",
              "      <th>1122</th>\n",
              "      <td>30.0</td>\n",
              "      <td>17.4</td>\n",
              "      <td>13.0</td>\n",
              "      <td>8</td>\n",
              "      <td>54</td>\n",
              "    </tr>\n",
              "    <tr>\n",
              "      <th>181</th>\n",
              "      <td>31.0</td>\n",
              "      <td>23.8</td>\n",
              "      <td>24.4</td>\n",
              "      <td>12</td>\n",
              "      <td>84</td>\n",
              "    </tr>\n",
              "    <tr>\n",
              "      <th>1257</th>\n",
              "      <td>35.4</td>\n",
              "      <td>26.4</td>\n",
              "      <td>24.0</td>\n",
              "      <td>11</td>\n",
              "      <td>70</td>\n",
              "    </tr>\n",
              "    <tr>\n",
              "      <th>223</th>\n",
              "      <td>33.0</td>\n",
              "      <td>23.9</td>\n",
              "      <td>25.1</td>\n",
              "      <td>13</td>\n",
              "      <td>80</td>\n",
              "    </tr>\n",
              "  </tbody>\n",
              "</table>\n",
              "</div>"
            ],
            "text/plain": [
              "      max_air_temp  min_air_temp  ...  max_wind_speed  relative_humidity\n",
              "1101          32.4          20.6  ...              10                 67\n",
              "1122          30.0          17.4  ...               8                 54\n",
              "181           31.0          23.8  ...              12                 84\n",
              "1257          35.4          26.4  ...              11                 70\n",
              "223           33.0          23.9  ...              13                 80\n",
              "\n",
              "[5 rows x 5 columns]"
            ]
          },
          "metadata": {
            "tags": []
          },
          "execution_count": 154
        }
      ]
    },
    {
      "cell_type": "code",
      "metadata": {
        "colab": {
          "base_uri": "https://localhost:8080/",
          "height": 195
        },
        "id": "aoZqV3uIZatA",
        "outputId": "adb0bd37-f36f-4ea0-db0f-be0b6e480356"
      },
      "source": [
        "#Check what inside the y_train is | การตรวจสอบค่าภายใน dataframe ของตัวแปร y_train ที่ใช้สำหรับ training ตัวแบบ\n",
        "y_train.head()"
      ],
      "execution_count": 155,
      "outputs": [
        {
          "output_type": "execute_result",
          "data": {
            "text/html": [
              "<div>\n",
              "<style scoped>\n",
              "    .dataframe tbody tr th:only-of-type {\n",
              "        vertical-align: middle;\n",
              "    }\n",
              "\n",
              "    .dataframe tbody tr th {\n",
              "        vertical-align: top;\n",
              "    }\n",
              "\n",
              "    .dataframe thead th {\n",
              "        text-align: right;\n",
              "    }\n",
              "</style>\n",
              "<table border=\"1\" class=\"dataframe\">\n",
              "  <thead>\n",
              "    <tr style=\"text-align: right;\">\n",
              "      <th></th>\n",
              "      <th>high_rain_accumulations_label</th>\n",
              "    </tr>\n",
              "  </thead>\n",
              "  <tbody>\n",
              "    <tr>\n",
              "      <th>1101</th>\n",
              "      <td>0</td>\n",
              "    </tr>\n",
              "    <tr>\n",
              "      <th>1122</th>\n",
              "      <td>0</td>\n",
              "    </tr>\n",
              "    <tr>\n",
              "      <th>181</th>\n",
              "      <td>0</td>\n",
              "    </tr>\n",
              "    <tr>\n",
              "      <th>1257</th>\n",
              "      <td>0</td>\n",
              "    </tr>\n",
              "    <tr>\n",
              "      <th>223</th>\n",
              "      <td>0</td>\n",
              "    </tr>\n",
              "  </tbody>\n",
              "</table>\n",
              "</div>"
            ],
            "text/plain": [
              "      high_rain_accumulations_label\n",
              "1101                              0\n",
              "1122                              0\n",
              "181                               0\n",
              "1257                              0\n",
              "223                               0"
            ]
          },
          "metadata": {
            "tags": []
          },
          "execution_count": 155
        }
      ]
    },
    {
      "cell_type": "code",
      "metadata": {
        "colab": {
          "base_uri": "https://localhost:8080/",
          "height": 195
        },
        "id": "eoA4muYOZG2t",
        "outputId": "16827609-7c5d-4233-df22-e3a8aabfe7b5"
      },
      "source": [
        "#Check what inside the X_test is | การตรวจสอบค่าภายใน dataframe ของตัวแปร X_test ที่ใช้สำหรับ testing ตัวแบบ\n",
        "X_test.head()"
      ],
      "execution_count": 156,
      "outputs": [
        {
          "output_type": "execute_result",
          "data": {
            "text/html": [
              "<div>\n",
              "<style scoped>\n",
              "    .dataframe tbody tr th:only-of-type {\n",
              "        vertical-align: middle;\n",
              "    }\n",
              "\n",
              "    .dataframe tbody tr th {\n",
              "        vertical-align: top;\n",
              "    }\n",
              "\n",
              "    .dataframe thead th {\n",
              "        text-align: right;\n",
              "    }\n",
              "</style>\n",
              "<table border=\"1\" class=\"dataframe\">\n",
              "  <thead>\n",
              "    <tr style=\"text-align: right;\">\n",
              "      <th></th>\n",
              "      <th>max_air_temp</th>\n",
              "      <th>min_air_temp</th>\n",
              "      <th>dew_point_temp</th>\n",
              "      <th>max_wind_speed</th>\n",
              "      <th>relative_humidity</th>\n",
              "    </tr>\n",
              "  </thead>\n",
              "  <tbody>\n",
              "    <tr>\n",
              "      <th>1247</th>\n",
              "      <td>34.4</td>\n",
              "      <td>25.8</td>\n",
              "      <td>23.9</td>\n",
              "      <td>11</td>\n",
              "      <td>73</td>\n",
              "    </tr>\n",
              "    <tr>\n",
              "      <th>1669</th>\n",
              "      <td>35.5</td>\n",
              "      <td>25.9</td>\n",
              "      <td>24.2</td>\n",
              "      <td>17</td>\n",
              "      <td>72</td>\n",
              "    </tr>\n",
              "    <tr>\n",
              "      <th>566</th>\n",
              "      <td>31.5</td>\n",
              "      <td>24.0</td>\n",
              "      <td>23.9</td>\n",
              "      <td>10</td>\n",
              "      <td>82</td>\n",
              "    </tr>\n",
              "    <tr>\n",
              "      <th>817</th>\n",
              "      <td>34.2</td>\n",
              "      <td>22.4</td>\n",
              "      <td>19.2</td>\n",
              "      <td>8</td>\n",
              "      <td>61</td>\n",
              "    </tr>\n",
              "    <tr>\n",
              "      <th>604</th>\n",
              "      <td>31.8</td>\n",
              "      <td>23.0</td>\n",
              "      <td>23.9</td>\n",
              "      <td>17</td>\n",
              "      <td>88</td>\n",
              "    </tr>\n",
              "  </tbody>\n",
              "</table>\n",
              "</div>"
            ],
            "text/plain": [
              "      max_air_temp  min_air_temp  ...  max_wind_speed  relative_humidity\n",
              "1247          34.4          25.8  ...              11                 73\n",
              "1669          35.5          25.9  ...              17                 72\n",
              "566           31.5          24.0  ...              10                 82\n",
              "817           34.2          22.4  ...               8                 61\n",
              "604           31.8          23.0  ...              17                 88\n",
              "\n",
              "[5 rows x 5 columns]"
            ]
          },
          "metadata": {
            "tags": []
          },
          "execution_count": 156
        }
      ]
    },
    {
      "cell_type": "code",
      "metadata": {
        "colab": {
          "base_uri": "https://localhost:8080/",
          "height": 195
        },
        "id": "R3uLl073ZGzF",
        "outputId": "6d1cedc6-c04c-4502-f47c-80c0b6e1c974"
      },
      "source": [
        "#Check what inside the y_test is | การตรวจสอบค่าภายใน dataframe ของตัวแปร y_test ที่ใช้สำหรับ testing ตัวแบบ\n",
        "y_test.head()"
      ],
      "execution_count": 157,
      "outputs": [
        {
          "output_type": "execute_result",
          "data": {
            "text/html": [
              "<div>\n",
              "<style scoped>\n",
              "    .dataframe tbody tr th:only-of-type {\n",
              "        vertical-align: middle;\n",
              "    }\n",
              "\n",
              "    .dataframe tbody tr th {\n",
              "        vertical-align: top;\n",
              "    }\n",
              "\n",
              "    .dataframe thead th {\n",
              "        text-align: right;\n",
              "    }\n",
              "</style>\n",
              "<table border=\"1\" class=\"dataframe\">\n",
              "  <thead>\n",
              "    <tr style=\"text-align: right;\">\n",
              "      <th></th>\n",
              "      <th>high_rain_accumulations_label</th>\n",
              "    </tr>\n",
              "  </thead>\n",
              "  <tbody>\n",
              "    <tr>\n",
              "      <th>1247</th>\n",
              "      <td>0</td>\n",
              "    </tr>\n",
              "    <tr>\n",
              "      <th>1669</th>\n",
              "      <td>1</td>\n",
              "    </tr>\n",
              "    <tr>\n",
              "      <th>566</th>\n",
              "      <td>1</td>\n",
              "    </tr>\n",
              "    <tr>\n",
              "      <th>817</th>\n",
              "      <td>0</td>\n",
              "    </tr>\n",
              "    <tr>\n",
              "      <th>604</th>\n",
              "      <td>1</td>\n",
              "    </tr>\n",
              "  </tbody>\n",
              "</table>\n",
              "</div>"
            ],
            "text/plain": [
              "      high_rain_accumulations_label\n",
              "1247                              0\n",
              "1669                              1\n",
              "566                               1\n",
              "817                               0\n",
              "604                               1"
            ]
          },
          "metadata": {
            "tags": []
          },
          "execution_count": 157
        }
      ]
    },
    {
      "cell_type": "code",
      "metadata": {
        "id": "9GtYSOHBuXwe",
        "colab": {
          "base_uri": "https://localhost:8080/",
          "height": 284
        },
        "outputId": "e6d30c6b-7648-4044-9bef-c4fb037e5c2e"
      },
      "source": [
        "#Check the dataframe detail with statistical indicator | การตรวจสอบรายละเอียดภายใน dataframe ของแต่ละคอมลัมน์ด้วยตัวชี้วัดทางสถิติ\n",
        "X_train.describe()"
      ],
      "execution_count": 158,
      "outputs": [
        {
          "output_type": "execute_result",
          "data": {
            "text/html": [
              "<div>\n",
              "<style scoped>\n",
              "    .dataframe tbody tr th:only-of-type {\n",
              "        vertical-align: middle;\n",
              "    }\n",
              "\n",
              "    .dataframe tbody tr th {\n",
              "        vertical-align: top;\n",
              "    }\n",
              "\n",
              "    .dataframe thead th {\n",
              "        text-align: right;\n",
              "    }\n",
              "</style>\n",
              "<table border=\"1\" class=\"dataframe\">\n",
              "  <thead>\n",
              "    <tr style=\"text-align: right;\">\n",
              "      <th></th>\n",
              "      <th>max_air_temp</th>\n",
              "      <th>min_air_temp</th>\n",
              "      <th>dew_point_temp</th>\n",
              "      <th>max_wind_speed</th>\n",
              "      <th>relative_humidity</th>\n",
              "    </tr>\n",
              "  </thead>\n",
              "  <tbody>\n",
              "    <tr>\n",
              "      <th>count</th>\n",
              "      <td>1195.000000</td>\n",
              "      <td>1195.000000</td>\n",
              "      <td>1195.000000</td>\n",
              "      <td>1195.000000</td>\n",
              "      <td>1195.000000</td>\n",
              "    </tr>\n",
              "    <tr>\n",
              "      <th>mean</th>\n",
              "      <td>32.355649</td>\n",
              "      <td>22.502929</td>\n",
              "      <td>21.310711</td>\n",
              "      <td>12.272803</td>\n",
              "      <td>70.827615</td>\n",
              "    </tr>\n",
              "    <tr>\n",
              "      <th>std</th>\n",
              "      <td>6.212002</td>\n",
              "      <td>4.700836</td>\n",
              "      <td>3.512312</td>\n",
              "      <td>4.726796</td>\n",
              "      <td>11.179309</td>\n",
              "    </tr>\n",
              "    <tr>\n",
              "      <th>min</th>\n",
              "      <td>0.000000</td>\n",
              "      <td>0.000000</td>\n",
              "      <td>4.400000</td>\n",
              "      <td>0.000000</td>\n",
              "      <td>36.000000</td>\n",
              "    </tr>\n",
              "    <tr>\n",
              "      <th>25%</th>\n",
              "      <td>31.200000</td>\n",
              "      <td>21.500000</td>\n",
              "      <td>19.150000</td>\n",
              "      <td>10.000000</td>\n",
              "      <td>63.000000</td>\n",
              "    </tr>\n",
              "    <tr>\n",
              "      <th>50%</th>\n",
              "      <td>33.200000</td>\n",
              "      <td>23.800000</td>\n",
              "      <td>22.600000</td>\n",
              "      <td>12.000000</td>\n",
              "      <td>71.000000</td>\n",
              "    </tr>\n",
              "    <tr>\n",
              "      <th>75%</th>\n",
              "      <td>35.000000</td>\n",
              "      <td>25.000000</td>\n",
              "      <td>24.000000</td>\n",
              "      <td>15.000000</td>\n",
              "      <td>80.000000</td>\n",
              "    </tr>\n",
              "    <tr>\n",
              "      <th>max</th>\n",
              "      <td>42.400000</td>\n",
              "      <td>29.800000</td>\n",
              "      <td>25.800000</td>\n",
              "      <td>40.000000</td>\n",
              "      <td>97.000000</td>\n",
              "    </tr>\n",
              "  </tbody>\n",
              "</table>\n",
              "</div>"
            ],
            "text/plain": [
              "       max_air_temp  min_air_temp  ...  max_wind_speed  relative_humidity\n",
              "count   1195.000000   1195.000000  ...     1195.000000        1195.000000\n",
              "mean      32.355649     22.502929  ...       12.272803          70.827615\n",
              "std        6.212002      4.700836  ...        4.726796          11.179309\n",
              "min        0.000000      0.000000  ...        0.000000          36.000000\n",
              "25%       31.200000     21.500000  ...       10.000000          63.000000\n",
              "50%       33.200000     23.800000  ...       12.000000          71.000000\n",
              "75%       35.000000     25.000000  ...       15.000000          80.000000\n",
              "max       42.400000     29.800000  ...       40.000000          97.000000\n",
              "\n",
              "[8 rows x 5 columns]"
            ]
          },
          "metadata": {
            "tags": []
          },
          "execution_count": 158
        }
      ]
    },
    {
      "cell_type": "code",
      "metadata": {
        "id": "TLSMpfK7uX0W",
        "colab": {
          "base_uri": "https://localhost:8080/",
          "height": 284
        },
        "outputId": "ae9e3431-ec40-4a2d-c4bc-f5a971862580"
      },
      "source": [
        "#Check the dataframe detail with statistical indicator | การตรวจสอบรายละเอียดภายใน dataframe ของแต่ละคอมลัมน์ด้วยตัวชี้วัดทางสถิติ\n",
        "y_train.describe()"
      ],
      "execution_count": 159,
      "outputs": [
        {
          "output_type": "execute_result",
          "data": {
            "text/html": [
              "<div>\n",
              "<style scoped>\n",
              "    .dataframe tbody tr th:only-of-type {\n",
              "        vertical-align: middle;\n",
              "    }\n",
              "\n",
              "    .dataframe tbody tr th {\n",
              "        vertical-align: top;\n",
              "    }\n",
              "\n",
              "    .dataframe thead th {\n",
              "        text-align: right;\n",
              "    }\n",
              "</style>\n",
              "<table border=\"1\" class=\"dataframe\">\n",
              "  <thead>\n",
              "    <tr style=\"text-align: right;\">\n",
              "      <th></th>\n",
              "      <th>high_rain_accumulations_label</th>\n",
              "    </tr>\n",
              "  </thead>\n",
              "  <tbody>\n",
              "    <tr>\n",
              "      <th>count</th>\n",
              "      <td>1195.000000</td>\n",
              "    </tr>\n",
              "    <tr>\n",
              "      <th>mean</th>\n",
              "      <td>0.307113</td>\n",
              "    </tr>\n",
              "    <tr>\n",
              "      <th>std</th>\n",
              "      <td>0.461490</td>\n",
              "    </tr>\n",
              "    <tr>\n",
              "      <th>min</th>\n",
              "      <td>0.000000</td>\n",
              "    </tr>\n",
              "    <tr>\n",
              "      <th>25%</th>\n",
              "      <td>0.000000</td>\n",
              "    </tr>\n",
              "    <tr>\n",
              "      <th>50%</th>\n",
              "      <td>0.000000</td>\n",
              "    </tr>\n",
              "    <tr>\n",
              "      <th>75%</th>\n",
              "      <td>1.000000</td>\n",
              "    </tr>\n",
              "    <tr>\n",
              "      <th>max</th>\n",
              "      <td>1.000000</td>\n",
              "    </tr>\n",
              "  </tbody>\n",
              "</table>\n",
              "</div>"
            ],
            "text/plain": [
              "       high_rain_accumulations_label\n",
              "count                    1195.000000\n",
              "mean                        0.307113\n",
              "std                         0.461490\n",
              "min                         0.000000\n",
              "25%                         0.000000\n",
              "50%                         0.000000\n",
              "75%                         1.000000\n",
              "max                         1.000000"
            ]
          },
          "metadata": {
            "tags": []
          },
          "execution_count": 159
        }
      ]
    },
    {
      "cell_type": "markdown",
      "metadata": {
        "id": "y1ikAPCqxylk"
      },
      "source": [
        "---\n",
        "#Build a model using the Decision Tree Classifier\n",
        "---"
      ]
    },
    {
      "cell_type": "markdown",
      "metadata": {
        "id": "IQUamffFyEKq"
      },
      "source": [
        "---\n",
        "*   Training phase : Training the model that uses the Decision Tree learning algorithm to adjust the model's parameters for minimizing the error.\n",
        "*   Testing phase : Put the test data into trained model to find how well the model predict the values compare to the actual value. The test dataset is unseen by the model cause we separated it off from a huge dataset.\n",
        "---"
      ]
    },
    {
      "cell_type": "markdown",
      "metadata": {
        "id": "qoi2Xmpoyf6U"
      },
      "source": [
        "---\n",
        ">Training phase\n",
        "---"
      ]
    },
    {
      "cell_type": "code",
      "metadata": {
        "id": "99VSGXLpuXr-",
        "colab": {
          "base_uri": "https://localhost:8080/"
        },
        "outputId": "8f1c1d2f-421f-4ed8-f5bc-61e9ec009be4"
      },
      "source": [
        "#Create the model with specific params such as random_state max_leaf_node | การสร้างตัวแบบด้วยการกำหนดค่าพารามิเตอร์ภายใน เช่น max_leaf_node และ random_state\n",
        "rain_accumulations_classifier = DecisionTreeClassifier(max_leaf_nodes = 10, random_state = 0)\n",
        "\n",
        "#Call the fit function to put the training dataset into it for training phase | การเรียกใช้ fit() ในการนำชุดข้อมูลฝึกสอนส่งผ่าน fit() เพื่อใช้สำหรับการเรียนรู้ของตัวแบบ\n",
        "rain_accumulations_classifier.fit(X_train, y_train)"
      ],
      "execution_count": 160,
      "outputs": [
        {
          "output_type": "execute_result",
          "data": {
            "text/plain": [
              "DecisionTreeClassifier(ccp_alpha=0.0, class_weight=None, criterion='gini',\n",
              "                       max_depth=None, max_features=None, max_leaf_nodes=10,\n",
              "                       min_impurity_decrease=0.0, min_impurity_split=None,\n",
              "                       min_samples_leaf=1, min_samples_split=2,\n",
              "                       min_weight_fraction_leaf=0.0, presort='deprecated',\n",
              "                       random_state=0, splitter='best')"
            ]
          },
          "metadata": {
            "tags": []
          },
          "execution_count": 160
        }
      ]
    },
    {
      "cell_type": "code",
      "metadata": {
        "id": "9iDJD3KcuXng",
        "colab": {
          "base_uri": "https://localhost:8080/"
        },
        "outputId": "59ca8eae-14ee-43f8-a1f8-cbf487eac9dd"
      },
      "source": [
        "#Check the types of the model that built as rain_accumulations_classifier | การตรวจสอบ types ของตัวแบบด้วย type()\n",
        "type(rain_accumulations_classifier)"
      ],
      "execution_count": 161,
      "outputs": [
        {
          "output_type": "execute_result",
          "data": {
            "text/plain": [
              "sklearn.tree._classes.DecisionTreeClassifier"
            ]
          },
          "metadata": {
            "tags": []
          },
          "execution_count": 161
        }
      ]
    },
    {
      "cell_type": "markdown",
      "metadata": {
        "id": "SW_iFYMaypQC"
      },
      "source": [
        "---\n",
        ">Testing phase\n",
        "---"
      ]
    },
    {
      "cell_type": "code",
      "metadata": {
        "id": "HDaCMaZ8uXVe",
        "colab": {
          "base_uri": "https://localhost:8080/"
        },
        "outputId": "e3db3797-6a37-4976-d4f6-2353bec161f5"
      },
      "source": [
        "#Call the predict function to put the testing dataset into it for testing phase | การเรียกใช้ predict() ในการนำชุดข้อมูลทดสอบส่งผ่าน predict() เพื่อใช้สำหรับการพยากรณ์ค่า \n",
        "y_pred = rain_accumulations_classifier.predict(X_test)"
      ],
      "execution_count": 162,
      "outputs": [
        {
          "output_type": "execute_result",
          "data": {
            "text/plain": [
              "numpy.ndarray"
            ]
          },
          "metadata": {
            "tags": []
          },
          "execution_count": 162
        }
      ]
    },
    {
      "cell_type": "code",
      "metadata": {
        "colab": {
          "base_uri": "https://localhost:8080/"
        },
        "id": "Hmu7jgTfFjKG",
        "outputId": "38d73d0a-1df7-4c82-8ec2-b784088a18e1"
      },
      "source": [
        "#Display the values of y_pred variable | การแสดงค่าภายในอาร์เรย์ของตัวแปร y_pred\n",
        "y_pred"
      ],
      "execution_count": 163,
      "outputs": [
        {
          "output_type": "execute_result",
          "data": {
            "text/plain": [
              "array([0, 0, 0, 0, 1, 0, 1, 0, 1, 1, 0, 0, 1, 1, 0, 0, 1, 0, 0, 0, 1, 1,\n",
              "       1, 1, 1, 0, 0, 1, 0, 1, 0, 1, 0, 1, 1, 1, 0, 0, 1, 1, 0, 0, 0, 0,\n",
              "       0, 0, 0, 1, 0, 1, 1, 0, 0, 1, 0, 0, 0, 0, 0, 0, 1, 1, 0, 1, 0, 0,\n",
              "       0, 1, 0, 1, 1, 1, 0, 0, 1, 0, 0, 0, 0, 1, 0, 0, 0, 0, 1, 0, 0, 0,\n",
              "       0, 0, 0, 1, 1, 1, 1, 0, 1, 0, 1, 1, 0, 1, 1, 0, 0, 0, 0, 1, 0, 0,\n",
              "       1, 0, 0, 1, 0, 1, 0, 0, 1, 0, 1, 0, 0, 1, 1, 0, 0, 1, 0, 0, 0, 1,\n",
              "       0, 0, 0, 0, 0, 1, 1, 0, 1, 0, 0, 0, 1, 0, 1, 0, 0, 0, 0, 0, 0, 0,\n",
              "       0, 1, 0, 1, 0, 1, 1, 1, 0, 0, 0, 0, 0, 0, 0, 0, 1, 0, 0, 0, 0, 0,\n",
              "       0, 0, 1, 0, 0, 0, 0, 1, 0, 0, 0, 0, 0, 1, 0, 1, 0, 1, 0, 1, 1, 1,\n",
              "       0, 0, 0, 0, 0, 0, 0, 0, 0, 0, 1, 0, 0, 0, 0, 0, 0, 1, 1, 1, 0, 0,\n",
              "       0, 0, 0, 0, 0, 0, 0, 0, 0, 0, 1, 1, 1, 0, 0, 1, 0, 0, 0, 0, 0, 0,\n",
              "       1, 0, 1, 0, 0, 0, 0, 0, 1, 0, 0, 1, 0, 1, 0, 1, 1, 0, 0, 1, 1, 0,\n",
              "       0, 0, 0, 0, 1, 0, 0, 0, 1, 0, 0, 1, 1, 1, 1, 0, 0, 1, 0, 0, 0, 0,\n",
              "       1, 0, 0, 0, 0, 0, 0, 0, 1, 1, 0, 0, 0, 0, 1, 0, 1, 0, 0, 0, 0, 0,\n",
              "       0, 0, 1, 0, 0, 1, 1, 0, 0, 0, 1, 0, 0, 1, 0, 0, 1, 0, 0, 0, 1, 1,\n",
              "       0, 1, 1, 1, 1, 0, 0, 0, 0, 0, 0, 0, 0, 1, 1, 0, 0, 0, 0, 1, 1, 0,\n",
              "       0, 0, 0, 0, 0, 0, 1, 0, 0, 1, 0, 0, 0, 0, 0, 0, 0, 0, 0, 0, 1, 0,\n",
              "       0, 0, 0, 1, 0, 1, 0, 0, 0, 0, 0, 0, 0, 0, 1, 1, 0, 1, 1, 0, 1, 0,\n",
              "       0, 1, 0, 0, 0, 0, 0, 0, 0, 0, 1, 1, 1, 0, 1, 0, 1, 0, 0, 0, 0, 0,\n",
              "       0, 1, 0, 1, 0, 1, 1, 1, 0, 0, 1, 0, 1, 1, 0, 0, 0, 0, 1, 1, 0, 0,\n",
              "       0, 0, 1, 0, 0, 1, 0, 1, 0, 1, 0, 1, 0, 0, 0, 0, 1, 1, 0, 0, 1, 0,\n",
              "       1, 0, 1, 1, 1, 0, 0, 1, 0, 0, 1, 0, 1, 0, 1, 0, 0, 0, 1, 0, 1, 1,\n",
              "       0, 1, 0, 0, 0, 1, 0, 1, 1, 0, 1, 1, 0, 0, 0, 0, 1, 1, 0, 0, 0, 0,\n",
              "       0, 1, 0, 1, 0, 1, 0, 0, 0, 0, 0, 0, 0, 0, 0, 0, 0, 1, 0, 0, 0, 0,\n",
              "       0, 1, 0, 0, 0, 0, 0, 0, 0, 1, 0, 0, 0, 0, 0, 0, 0, 0, 0, 0, 0, 1,\n",
              "       1, 0, 0, 0, 0, 1, 0, 0, 0, 0, 0, 0, 0, 0, 0, 0, 0, 0, 0, 0, 0, 0,\n",
              "       0, 1, 1, 1, 1, 1, 0, 0, 0, 1, 0, 0, 0, 0, 1, 1, 1])"
            ]
          },
          "metadata": {
            "tags": []
          },
          "execution_count": 163
        }
      ]
    },
    {
      "cell_type": "markdown",
      "metadata": {
        "id": "C0A49QxFxyuR"
      },
      "source": [
        "---\n",
        ">Convert the numpy array to dataframe\n",
        "---"
      ]
    },
    {
      "cell_type": "code",
      "metadata": {
        "id": "72l3eWyuuzIs"
      },
      "source": [
        "#Convert the numpy array of y_pred to dataframe |  การแปลงอาร์เรย์ให้เป็น dataframe ให้ง่ายต่อการจัดการ\n",
        "y_pred = pd.DataFrame(y_pred,columns=['y_pred']) "
      ],
      "execution_count": 164,
      "outputs": []
    },
    {
      "cell_type": "code",
      "metadata": {
        "id": "gwvpLFVuuzEn",
        "colab": {
          "base_uri": "https://localhost:8080/",
          "height": 402
        },
        "outputId": "08459cc1-88c7-4551-de63-715d028b1ef3"
      },
      "source": [
        "#Display the y_pred's dataframe | การแสดงค่าภายใน dataframe ของตัวแปร y_pred\n",
        "y_pred"
      ],
      "execution_count": 165,
      "outputs": [
        {
          "output_type": "execute_result",
          "data": {
            "text/html": [
              "<div>\n",
              "<style scoped>\n",
              "    .dataframe tbody tr th:only-of-type {\n",
              "        vertical-align: middle;\n",
              "    }\n",
              "\n",
              "    .dataframe tbody tr th {\n",
              "        vertical-align: top;\n",
              "    }\n",
              "\n",
              "    .dataframe thead th {\n",
              "        text-align: right;\n",
              "    }\n",
              "</style>\n",
              "<table border=\"1\" class=\"dataframe\">\n",
              "  <thead>\n",
              "    <tr style=\"text-align: right;\">\n",
              "      <th></th>\n",
              "      <th>y_pred</th>\n",
              "    </tr>\n",
              "  </thead>\n",
              "  <tbody>\n",
              "    <tr>\n",
              "      <th>0</th>\n",
              "      <td>0</td>\n",
              "    </tr>\n",
              "    <tr>\n",
              "      <th>1</th>\n",
              "      <td>0</td>\n",
              "    </tr>\n",
              "    <tr>\n",
              "      <th>2</th>\n",
              "      <td>0</td>\n",
              "    </tr>\n",
              "    <tr>\n",
              "      <th>3</th>\n",
              "      <td>0</td>\n",
              "    </tr>\n",
              "    <tr>\n",
              "      <th>4</th>\n",
              "      <td>1</td>\n",
              "    </tr>\n",
              "    <tr>\n",
              "      <th>...</th>\n",
              "      <td>...</td>\n",
              "    </tr>\n",
              "    <tr>\n",
              "      <th>584</th>\n",
              "      <td>0</td>\n",
              "    </tr>\n",
              "    <tr>\n",
              "      <th>585</th>\n",
              "      <td>0</td>\n",
              "    </tr>\n",
              "    <tr>\n",
              "      <th>586</th>\n",
              "      <td>1</td>\n",
              "    </tr>\n",
              "    <tr>\n",
              "      <th>587</th>\n",
              "      <td>1</td>\n",
              "    </tr>\n",
              "    <tr>\n",
              "      <th>588</th>\n",
              "      <td>1</td>\n",
              "    </tr>\n",
              "  </tbody>\n",
              "</table>\n",
              "<p>589 rows × 1 columns</p>\n",
              "</div>"
            ],
            "text/plain": [
              "     y_pred\n",
              "0         0\n",
              "1         0\n",
              "2         0\n",
              "3         0\n",
              "4         1\n",
              "..      ...\n",
              "584       0\n",
              "585       0\n",
              "586       1\n",
              "587       1\n",
              "588       1\n",
              "\n",
              "[589 rows x 1 columns]"
            ]
          },
          "metadata": {
            "tags": []
          },
          "execution_count": 165
        }
      ]
    },
    {
      "cell_type": "markdown",
      "metadata": {
        "id": "Ka5TrANk3_Px"
      },
      "source": [
        "---\n",
        ">Predicted value VS Actual value \n",
        "---"
      ]
    },
    {
      "cell_type": "markdown",
      "metadata": {
        "id": "u41iuw7A4M_a"
      },
      "source": [
        "---\n",
        "*   Predicted value (y_pred)\n",
        "    *   \"0\" value is counts 401\n",
        "    *   \"1\" value is counts 188\n",
        "*   Actual value (y_test)\n",
        "    *   \"0\" value is counts 396\n",
        "    *   \"1\" value is counts 193\n",
        "---"
      ]
    },
    {
      "cell_type": "code",
      "metadata": {
        "colab": {
          "base_uri": "https://localhost:8080/",
          "height": 774
        },
        "id": "MuEZ4awYNcm0",
        "outputId": "8f93e893-079a-45a3-8402-57b718390954"
      },
      "source": [
        "#Set the figure | การทำการ set figure\n",
        "sns.set()\n",
        "\n",
        "#Display the number of binary values (0 or 1) of y_pred's dataframe | การแสดงจำนวนของค่าไบนารี่ภายใน dataframe ของ y_pred\n",
        "print(y_pred.value_counts())\n",
        "\n",
        "#Plot the catagorical data of the y_pred's dataframe | การพลอตกราฟแยกประเภทของค่าไบนารี่ด้วย countplot()\n",
        "sns.countplot(y_pred['y_pred'])\n",
        "plt.show()\n",
        "\n",
        "#Duplicate the dataframe to avoid confusion | การทำสำเนาของ dataframe เพื่อหลีกเลี่ยงการทับซ้อนกันของการเรียกใช้ dataframe \n",
        "A = y_test.copy()\n",
        "\n",
        "#Rename a column of the dataframe to be another one | การเปลี่ยนชื่อคอลัมน์ของ dataframe ด้วย rename()\n",
        "A.rename(columns={'high_rain_accumulations_label':'y_test'},inplace=True)\n",
        "\n",
        "#Display the number of binary values (0 or 1) of y_test's dataframe | การแสดงจำนวนของค่าไบนารี่ภายใน dataframe ของ y_test\n",
        "print(A.value_counts())\n",
        "\n",
        "#Plot the catagorical data of the y_test's dataframe | การพลอตกราฟแยกประเภทของค่าไบนารี่ด้วย countplot()\n",
        "sns.countplot(A['y_test'])\n",
        "plt.show()"
      ],
      "execution_count": 166,
      "outputs": [
        {
          "output_type": "stream",
          "text": [
            "y_pred\n",
            "0         401\n",
            "1         188\n",
            "dtype: int64\n"
          ],
          "name": "stdout"
        },
        {
          "output_type": "stream",
          "text": [
            "/usr/local/lib/python3.6/dist-packages/seaborn/_decorators.py:43: FutureWarning: Pass the following variable as a keyword arg: x. From version 0.12, the only valid positional argument will be `data`, and passing other arguments without an explicit keyword will result in an error or misinterpretation.\n",
            "  FutureWarning\n"
          ],
          "name": "stderr"
        },
        {
          "output_type": "display_data",
          "data": {
            "image/png": "[encoded data removed]",
            "text/plain": [
              "<Figure size 432x288 with 1 Axes>"
            ]
          },
          "metadata": {
            "tags": []
          }
        },
        {
          "output_type": "stream",
          "text": [
            "y_test\n",
            "0         396\n",
            "1         193\n",
            "dtype: int64\n"
          ],
          "name": "stdout"
        },
        {
          "output_type": "stream",
          "text": [
            "/usr/local/lib/python3.6/dist-packages/seaborn/_decorators.py:43: FutureWarning: Pass the following variable as a keyword arg: x. From version 0.12, the only valid positional argument will be `data`, and passing other arguments without an explicit keyword will result in an error or misinterpretation.\n",
            "  FutureWarning\n"
          ],
          "name": "stderr"
        },
        {
          "output_type": "display_data",
          "data": {
            "image/png": "[encoded data removed]",
            "text/plain": [
              "<Figure size 432x288 with 1 Axes>"
            ]
          },
          "metadata": {
            "tags": []
          }
        }
      ]
    },
    {
      "cell_type": "code",
      "metadata": {
        "colab": {
          "base_uri": "https://localhost:8080/",
          "height": 585
        },
        "id": "jAAeJniBNzS-",
        "outputId": "b94b07f8-5cf6-4419-f756-ab8ba4f282a6"
      },
      "source": [
        "#Plot two variable of the dataframe by selecting rain_accumulations column with scatter plot | การพลอตกราฟสองตัวแปรของ dataframe ด้วย scatter plot\n",
        "clean_data.plot.scatter(x='timestamp',y='rain_accumulations',c='DarkBlue',title='Rain accumulations')\n",
        "plt.show()\n",
        "\n",
        "#Plot two variable of the dataframe by selecting dew_points_temp column with scatter plot | การพลอตกราฟสองตัวแปรของ dataframe ด้วย scatter plot\n",
        "clean_data.plot.scatter(x='timestamp',y='dew_point_temp',c='DarkBlue',title='Dew points')\n",
        "plt.show()"
      ],
      "execution_count": 167,
      "outputs": [
        {
          "output_type": "display_data",
          "data": {
            "image/png": "[encoded data removed]",
            "text/plain": [
              "<Figure size 432x288 with 1 Axes>"
            ]
          },
          "metadata": {
            "tags": []
          }
        },
        {
          "output_type": "display_data",
          "data": {
            "image/png": "[encoded data removed]",
            "text/plain": [
              "<Figure size 432x288 with 1 Axes>"
            ]
          },
          "metadata": {
            "tags": []
          }
        }
      ]
    },
    {
      "cell_type": "markdown",
      "metadata": {
        "id": "r5bXw1RQkQ0B"
      },
      "source": [
        "---\n",
        ">Measure the accuracy score of the model\n",
        "---"
      ]
    },
    {
      "cell_type": "code",
      "metadata": {
        "id": "oy_rLVLVuy-m",
        "colab": {
          "base_uri": "https://localhost:8080/"
        },
        "outputId": "87d2eda9-0bb0-46df-bb5f-6a2ce50eed16"
      },
      "source": [
        "#Measure the accuracy score to find how well the model predict the values compare to actual values | การวัดค่าความแม่นยำเพื่อตรวจสอบวาตัวแบบสามารถพยากณ์ค่าได้ดีแค่ไหนเมื่อเปรียบเทียบกับค่าจริง\n",
        "accuracy_score(y_test, y_pred)"
      ],
      "execution_count": 168,
      "outputs": [
        {
          "output_type": "execute_result",
          "data": {
            "text/plain": [
              "0.8455008488964346"
            ]
          },
          "metadata": {
            "tags": []
          },
          "execution_count": 168
        }
      ]
    },
    {
      "cell_type": "markdown",
      "metadata": {
        "id": "1JVyLcZmkjZA"
      },
      "source": [
        "---\n",
        ">Measure the mean squared error (MSE) of the model\n",
        "---"
      ]
    },
    {
      "cell_type": "code",
      "metadata": {
        "id": "2ZRsDxSJuy50",
        "colab": {
          "base_uri": "https://localhost:8080/"
        },
        "outputId": "8d9054d3-ff16-4e46-ac38-fcf4bb5806d3"
      },
      "source": [
        "#Measure the MSE to find some errors that occurs on this model | การวัดค่า MSE ที่เกิดขึ้นในการ training ตัวแบบ (Loss function) ยิ่งค่าต่ำใกล้ 0 แสดงว่าตัวแบบมีความแม่นยำสูงแต่ควรระวัง overfitting \n",
        "from sklearn.metrics import mean_squared_error\n",
        "mean_squared_error(y_test, y_pred)"
      ],
      "execution_count": 169,
      "outputs": [
        {
          "output_type": "execute_result",
          "data": {
            "text/plain": [
              "0.15449915110356535"
            ]
          },
          "metadata": {
            "tags": []
          },
          "execution_count": 169
        }
      ]
    }
  ]
}